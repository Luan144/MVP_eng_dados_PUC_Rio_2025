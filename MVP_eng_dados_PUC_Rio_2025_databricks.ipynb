{
 "cells": [
  {
   "cell_type": "markdown",
   "metadata": {
    "application/vnd.databricks.v1+cell": {
     "cellMetadata": {},
     "inputWidgets": {},
     "nuid": "fdb743bb-52a5-459e-b5a8-221114dc313a",
     "showTitle": false,
     "tableResultSettingsMap": {},
     "title": ""
    }
   },
   "source": [
    "## MVP_eng_dados_PUC_Rio_2025\n",
    "\n",
    "### Trabalho de conclusão da sprint Engenharia de Dados da especialização em Ciência de Dados e Analytics da Puc-Rio.\n",
    "### O objetivo deste trabalho é criar um pipeline de extração, limpeza e análise de dados.\n"
   ]
  },
  {
   "cell_type": "code",
   "execution_count": 0,
   "metadata": {
    "application/vnd.databricks.v1+cell": {
     "cellMetadata": {
      "byteLimit": 2048000,
      "rowLimit": 10000
     },
     "inputWidgets": {},
     "nuid": "2eb708f3-4d34-43b9-b432-2c42e3195fde",
     "showTitle": false,
     "tableResultSettingsMap": {},
     "title": ""
    }
   },
   "outputs": [
    {
     "output_type": "stream",
     "name": "stdout",
     "output_type": "stream",
     "text": [
      "Out[2]: True"
     ]
    }
   ],
   "source": [
    "dbutils.fs.mkdirs(\"dbfs:/FileStore/mvp_eng_dados_puc_rio_2025\")"
   ]
  },
  {
   "cell_type": "code",
   "execution_count": 0,
   "metadata": {
    "application/vnd.databricks.v1+cell": {
     "cellMetadata": {
      "byteLimit": 2048000,
      "rowLimit": 10000
     },
     "inputWidgets": {},
     "nuid": "9f089118-d1f0-42c1-9679-96da194fa0bf",
     "showTitle": false,
     "tableResultSettingsMap": {},
     "title": ""
    }
   },
   "outputs": [
    {
     "output_type": "stream",
     "name": "stdout",
     "output_type": "stream",
     "text": [
      "Out[8]: [FileInfo(path='dbfs:/FileStore/mvp_eng_dados_puc_rio_2025/', name='mvp_eng_dados_puc_rio_2025/', size=0, modificationTime=0),\n FileInfo(path='dbfs:/FileStore/shared_uploads/', name='shared_uploads/', size=0, modificationTime=0),\n FileInfo(path='dbfs:/FileStore/tables/', name='tables/', size=0, modificationTime=0),\n FileInfo(path='dbfs:/FileStore/teste/', name='teste/', size=0, modificationTime=0)]"
     ]
    }
   ],
   "source": [
    "dbutils.fs.ls(\"dbfs:/FileStore\")"
   ]
  },
  {
   "cell_type": "code",
   "execution_count": 0,
   "metadata": {
    "application/vnd.databricks.v1+cell": {
     "cellMetadata": {
      "byteLimit": 2048000,
      "rowLimit": 10000
     },
     "inputWidgets": {},
     "nuid": "13ec2677-f6d8-4439-9405-962b3f3e133f",
     "showTitle": false,
     "tableResultSettingsMap": {},
     "title": ""
    }
   },
   "outputs": [
    {
     "output_type": "stream",
     "name": "stdout",
     "output_type": "stream",
     "text": [
      "Out[9]: [FileInfo(path='dbfs:/FileStore/tables/EmendasParlamentares-1.csv', name='EmendasParlamentares-1.csv', size=40940809, modificationTime=1742423074000),\n FileInfo(path='dbfs:/FileStore/tables/EmendasParlamentares.csv', name='EmendasParlamentares.csv', size=40940809, modificationTime=1742423017000)]"
     ]
    }
   ],
   "source": [
    "dbutils.fs.ls(\"dbfs:/FileStore/tables\")"
   ]
  },
  {
   "cell_type": "code",
   "execution_count": 0,
   "metadata": {
    "application/vnd.databricks.v1+cell": {
     "cellMetadata": {
      "byteLimit": 2048000,
      "rowLimit": 10000
     },
     "inputWidgets": {},
     "nuid": "9ff964fc-cb3b-45cc-a465-ede9c53a46a2",
     "showTitle": false,
     "tableResultSettingsMap": {},
     "title": ""
    }
   },
   "outputs": [
    {
     "output_type": "display_data",
     "data": {
      "text/html": [
       "<style scoped>\n",
       "  .table-result-container {\n",
       "    max-height: 300px;\n",
       "    overflow: auto;\n",
       "  }\n",
       "  table, th, td {\n",
       "    border: 1px solid black;\n",
       "    border-collapse: collapse;\n",
       "  }\n",
       "  th, td {\n",
       "    padding: 5px;\n",
       "  }\n",
       "  th {\n",
       "    text-align: left;\n",
       "  }\n",
       "</style><div class='table-result-container'><table class='table-result'><thead style='background-color: white'><tr><th>path</th><th>name</th><th>size</th><th>modificationTime</th></tr></thead><tbody><tr><td>dbfs:/FileStore/tables/EmendasParlamentares-1.csv</td><td>EmendasParlamentares-1.csv</td><td>40940809</td><td>1742423074000</td></tr><tr><td>dbfs:/FileStore/tables/EmendasParlamentares.csv</td><td>EmendasParlamentares.csv</td><td>40940809</td><td>1742423017000</td></tr></tbody></table></div>"
      ]
     },
     "metadata": {
      "application/vnd.databricks.v1+output": {
       "addedWidgets": {},
       "aggData": [],
       "aggError": "",
       "aggOverflow": false,
       "aggSchema": [],
       "aggSeriesLimitReached": false,
       "aggType": "",
       "arguments": {},
       "columnCustomDisplayInfos": {},
       "data": [
        [
         "dbfs:/FileStore/tables/EmendasParlamentares-1.csv",
         "EmendasParlamentares-1.csv",
         40940809,
         1742423074000
        ],
        [
         "dbfs:/FileStore/tables/EmendasParlamentares.csv",
         "EmendasParlamentares.csv",
         40940809,
         1742423017000
        ]
       ],
       "datasetInfos": [],
       "dbfsResultPath": null,
       "isJsonSchema": true,
       "metadata": {},
       "overflow": false,
       "plotOptions": {
        "customPlotOptions": {},
        "displayType": "table",
        "pivotAggregation": null,
        "pivotColumns": null,
        "xColumns": null,
        "yColumns": null
       },
       "removedWidgets": [],
       "schema": [
        {
         "metadata": "{}",
         "name": "path",
         "type": "\"string\""
        },
        {
         "metadata": "{}",
         "name": "name",
         "type": "\"string\""
        },
        {
         "metadata": "{}",
         "name": "size",
         "type": "\"long\""
        },
        {
         "metadata": "{}",
         "name": "modificationTime",
         "type": "\"long\""
        }
       ],
       "type": "table"
      }
     },
     "output_type": "display_data"
    }
   ],
   "source": [
    "#check files\n",
    "display(dbutils.fs.ls(\"dbfs:/FileStore/tables/\"))"
   ]
  },
  {
   "cell_type": "markdown",
   "metadata": {
    "application/vnd.databricks.v1+cell": {
     "cellMetadata": {
      "byteLimit": 2048000,
      "rowLimit": 10000
     },
     "inputWidgets": {},
     "nuid": "847240a8-23b6-450c-ab54-8f0f94657c7f",
     "showTitle": false,
     "tableResultSettingsMap": {},
     "title": ""
    }
   },
   "source": [
    "- ORIGEM\n",
    "https://portaldatransparencia.gov.br/emendas/visao-geral\n",
    "\n",
    "- DICIONÁRIO DE TERMOS https://portaldatransparencia.gov.br/dicionario-de-dados-emendas-parlamentares\n",
    "\n",
    "- GLOSSÁRIO\n",
    "https://portaldatransparencia.gov.br/glossario"
   ]
  },
  {
   "cell_type": "markdown",
   "metadata": {
    "application/vnd.databricks.v1+cell": {
     "cellMetadata": {},
     "inputWidgets": {},
     "nuid": "48ddfbef-3028-4983-952c-44b5f73bcf73",
     "showTitle": false,
     "tableResultSettingsMap": {},
     "title": ""
    }
   },
   "source": [
    "# Perguntas Iniciais\n",
    "\n",
    "- 1) Top 5 maiores relatores de emendas em número de emendas\n",
    "- 2) Top 5 maiores relatores de emendas em valor pago\n",
    "- 3) quais subfunções que receberam mais dinheiro?\n",
    "- 4) quais local_destino receberam mais dinheiro?\n",
    "- 5) quais local_destino receberam menos dinheiro?\n",
    "- 6) quais regiões receberam mais dinheiro e quanto receberam?\n",
    "- 7) quais regiões receberam menos dinheiro e quanto receberam?\n",
    "- 8) qual a tendência do valor total pago nos últimos 5 anos?\n",
    "- 9) qual o volume em dinheiro das emendas de relator em 2024?\n",
    "- 10) qual a tendência do volume das emendas de relator nos últimos 5 anos?\n"
   ]
  },
  {
   "cell_type": "code",
   "execution_count": 0,
   "metadata": {
    "application/vnd.databricks.v1+cell": {
     "cellMetadata": {
      "byteLimit": 2048000,
      "rowLimit": 10000
     },
     "inputWidgets": {},
     "nuid": "6c26af78-c9e1-4912-afe8-14eacd789dbb",
     "showTitle": false,
     "tableResultSettingsMap": {},
     "title": ""
    }
   },
   "outputs": [
    {
     "output_type": "display_data",
     "data": {
      "text/html": [
       "<div>\n",
       "<style scoped>\n",
       "    .dataframe tbody tr th:only-of-type {\n",
       "        vertical-align: middle;\n",
       "    }\n",
       "\n",
       "    .dataframe tbody tr th {\n",
       "        vertical-align: top;\n",
       "    }\n",
       "\n",
       "    .dataframe thead th {\n",
       "        text-align: right;\n",
       "    }\n",
       "</style>\n",
       "<table border=\"1\" class=\"dataframe\">\n",
       "  <thead>\n",
       "    <tr style=\"text-align: right;\">\n",
       "      <th></th>\n",
       "      <th>Código da Emenda</th>\n",
       "      <th>Ano da Emenda</th>\n",
       "      <th>Tipo de Emenda</th>\n",
       "      <th>Código do Autor da Emenda</th>\n",
       "      <th>Nome do Autor da Emenda</th>\n",
       "      <th>Número da emenda</th>\n",
       "      <th>Localidade de aplicação do recurso</th>\n",
       "      <th>Código Município IBGE</th>\n",
       "      <th>Município</th>\n",
       "      <th>Código UF IBGE</th>\n",
       "      <th>...</th>\n",
       "      <th>Código Ação</th>\n",
       "      <th>Nome Ação</th>\n",
       "      <th>Código Plano Orçamentário</th>\n",
       "      <th>Nome Plano Orçamentário</th>\n",
       "      <th>Valor Empenhado</th>\n",
       "      <th>Valor Liquidado</th>\n",
       "      <th>Valor Pago</th>\n",
       "      <th>Valor Restos A Pagar Inscritos</th>\n",
       "      <th>Valor Restos A Pagar Cancelados</th>\n",
       "      <th>Valor Restos A Pagar Pagos</th>\n",
       "    </tr>\n",
       "  </thead>\n",
       "  <tbody>\n",
       "    <tr>\n",
       "      <th>76404</th>\n",
       "      <td>202471230010</td>\n",
       "      <td>2024</td>\n",
       "      <td>Emenda de Bancada</td>\n",
       "      <td>7123</td>\n",
       "      <td>BANCADA DE RONDONIA</td>\n",
       "      <td>0010</td>\n",
       "      <td>ESPIGÃO D'OESTE - RO</td>\n",
       "      <td>1100098</td>\n",
       "      <td>ESPIGÃO D'OESTE</td>\n",
       "      <td>1100000</td>\n",
       "      <td>...</td>\n",
       "      <td>1211</td>\n",
       "      <td>IMPLEMENTACAO DE INFRAESTRUTURA BASICA NOS MUN...</td>\n",
       "      <td>0000</td>\n",
       "      <td>IMPLEMENTACAO DE INFRAESTRUTURA BASICA NOS MUN...</td>\n",
       "      <td>28000000,00</td>\n",
       "      <td>0,00</td>\n",
       "      <td>0,00</td>\n",
       "      <td>55575608,48</td>\n",
       "      <td>0,00</td>\n",
       "      <td>424391,52</td>\n",
       "    </tr>\n",
       "    <tr>\n",
       "      <th>11708</th>\n",
       "      <td>201528620010</td>\n",
       "      <td>2015</td>\n",
       "      <td>Emenda Individual - Transferências com Finalid...</td>\n",
       "      <td>2862</td>\n",
       "      <td>BOHN GASS</td>\n",
       "      <td>0010</td>\n",
       "      <td>MÚLTIPLO</td>\n",
       "      <td>Sem informação</td>\n",
       "      <td>Múltiplo</td>\n",
       "      <td>4300000</td>\n",
       "      <td>...</td>\n",
       "      <td>10V0</td>\n",
       "      <td>APOIO A PROJETOS DE INFRAESTRUTURA TURISTICA</td>\n",
       "      <td>0000</td>\n",
       "      <td>APOIO A PROJETOS DE INFRAESTRUTURA TURISTICA -...</td>\n",
       "      <td>250000,00</td>\n",
       "      <td>0,00</td>\n",
       "      <td>0,00</td>\n",
       "      <td>0,00</td>\n",
       "      <td>0,00</td>\n",
       "      <td>250000,00</td>\n",
       "    </tr>\n",
       "    <tr>\n",
       "      <th>11611</th>\n",
       "      <td>201528600009</td>\n",
       "      <td>2015</td>\n",
       "      <td>Emenda Individual - Transferências com Finalid...</td>\n",
       "      <td>2860</td>\n",
       "      <td>ASSIS MELO</td>\n",
       "      <td>0009</td>\n",
       "      <td>NOVA PÁDUA - RS</td>\n",
       "      <td>4313086</td>\n",
       "      <td>NOVA PÁDUA</td>\n",
       "      <td>4300000</td>\n",
       "      <td>...</td>\n",
       "      <td>152M</td>\n",
       "      <td>AQUISICAO DE MAQUINAS E EQUIPAMENTOS PARA ADEQ...</td>\n",
       "      <td>0000</td>\n",
       "      <td>AQUISICAO DE MAQUINAS E EQUIPAMENTOS PARA ADEQ...</td>\n",
       "      <td>300000,00</td>\n",
       "      <td>0,00</td>\n",
       "      <td>0,00</td>\n",
       "      <td>0,00</td>\n",
       "      <td>0,00</td>\n",
       "      <td>300000,00</td>\n",
       "    </tr>\n",
       "  </tbody>\n",
       "</table>\n",
       "<p>3 rows × 28 columns</p>\n",
       "</div>"
      ]
     },
     "metadata": {
      "application/vnd.databricks.v1+output": {
       "addedWidgets": {},
       "arguments": {},
       "data": "<div>\n<style scoped>\n    .dataframe tbody tr th:only-of-type {\n        vertical-align: middle;\n    }\n\n    .dataframe tbody tr th {\n        vertical-align: top;\n    }\n\n    .dataframe thead th {\n        text-align: right;\n    }\n</style>\n<table border=\"1\" class=\"dataframe\">\n  <thead>\n    <tr style=\"text-align: right;\">\n      <th></th>\n      <th>Código da Emenda</th>\n      <th>Ano da Emenda</th>\n      <th>Tipo de Emenda</th>\n      <th>Código do Autor da Emenda</th>\n      <th>Nome do Autor da Emenda</th>\n      <th>Número da emenda</th>\n      <th>Localidade de aplicação do recurso</th>\n      <th>Código Município IBGE</th>\n      <th>Município</th>\n      <th>Código UF IBGE</th>\n      <th>...</th>\n      <th>Código Ação</th>\n      <th>Nome Ação</th>\n      <th>Código Plano Orçamentário</th>\n      <th>Nome Plano Orçamentário</th>\n      <th>Valor Empenhado</th>\n      <th>Valor Liquidado</th>\n      <th>Valor Pago</th>\n      <th>Valor Restos A Pagar Inscritos</th>\n      <th>Valor Restos A Pagar Cancelados</th>\n      <th>Valor Restos A Pagar Pagos</th>\n    </tr>\n  </thead>\n  <tbody>\n    <tr>\n      <th>76404</th>\n      <td>202471230010</td>\n      <td>2024</td>\n      <td>Emenda de Bancada</td>\n      <td>7123</td>\n      <td>BANCADA DE RONDONIA</td>\n      <td>0010</td>\n      <td>ESPIGÃO D'OESTE - RO</td>\n      <td>1100098</td>\n      <td>ESPIGÃO D'OESTE</td>\n      <td>1100000</td>\n      <td>...</td>\n      <td>1211</td>\n      <td>IMPLEMENTACAO DE INFRAESTRUTURA BASICA NOS MUN...</td>\n      <td>0000</td>\n      <td>IMPLEMENTACAO DE INFRAESTRUTURA BASICA NOS MUN...</td>\n      <td>28000000,00</td>\n      <td>0,00</td>\n      <td>0,00</td>\n      <td>55575608,48</td>\n      <td>0,00</td>\n      <td>424391,52</td>\n    </tr>\n    <tr>\n      <th>11708</th>\n      <td>201528620010</td>\n      <td>2015</td>\n      <td>Emenda Individual - Transferências com Finalid...</td>\n      <td>2862</td>\n      <td>BOHN GASS</td>\n      <td>0010</td>\n      <td>MÚLTIPLO</td>\n      <td>Sem informação</td>\n      <td>Múltiplo</td>\n      <td>4300000</td>\n      <td>...</td>\n      <td>10V0</td>\n      <td>APOIO A PROJETOS DE INFRAESTRUTURA TURISTICA</td>\n      <td>0000</td>\n      <td>APOIO A PROJETOS DE INFRAESTRUTURA TURISTICA -...</td>\n      <td>250000,00</td>\n      <td>0,00</td>\n      <td>0,00</td>\n      <td>0,00</td>\n      <td>0,00</td>\n      <td>250000,00</td>\n    </tr>\n    <tr>\n      <th>11611</th>\n      <td>201528600009</td>\n      <td>2015</td>\n      <td>Emenda Individual - Transferências com Finalid...</td>\n      <td>2860</td>\n      <td>ASSIS MELO</td>\n      <td>0009</td>\n      <td>NOVA PÁDUA - RS</td>\n      <td>4313086</td>\n      <td>NOVA PÁDUA</td>\n      <td>4300000</td>\n      <td>...</td>\n      <td>152M</td>\n      <td>AQUISICAO DE MAQUINAS E EQUIPAMENTOS PARA ADEQ...</td>\n      <td>0000</td>\n      <td>AQUISICAO DE MAQUINAS E EQUIPAMENTOS PARA ADEQ...</td>\n      <td>300000,00</td>\n      <td>0,00</td>\n      <td>0,00</td>\n      <td>0,00</td>\n      <td>0,00</td>\n      <td>300000,00</td>\n    </tr>\n  </tbody>\n</table>\n<p>3 rows × 28 columns</p>\n</div>",
       "datasetInfos": [],
       "metadata": {},
       "removedWidgets": [],
       "textData": null,
       "type": "htmlSandbox"
      }
     },
     "output_type": "display_data"
    }
   ],
   "source": [
    "df_bronze_pyspark = spark.read.option(\"header\", \"true\") \\\n",
    "                             .option(\"sep\", \";\") \\\n",
    "                             .option(\"encoding\", \"ISO-8859-1\") \\\n",
    "                             .csv(\"dbfs:/FileStore/tables/EmendasParlamentares-1.csv\")\n",
    "\n",
    "df_bronze = df_bronze_pyspark.toPandas()\n",
    "df_bronze.sample(3)"
   ]
  },
  {
   "cell_type": "code",
   "execution_count": 0,
   "metadata": {
    "application/vnd.databricks.v1+cell": {
     "cellMetadata": {
      "byteLimit": 2048000,
      "rowLimit": 10000
     },
     "inputWidgets": {},
     "nuid": "4040475d-a109-4b40-b5a1-b7b4a9f53b7f",
     "showTitle": false,
     "tableResultSettingsMap": {},
     "title": ""
    }
   },
   "outputs": [
    {
     "output_type": "stream",
     "name": "stdout",
     "output_type": "stream",
     "text": [
      "<class 'pandas.core.frame.DataFrame'>\nRangeIndex: 82609 entries, 0 to 82608\nData columns (total 28 columns):\n #   Column                              Non-Null Count  Dtype \n---  ------                              --------------  ----- \n 0   Código da Emenda                    82609 non-null  object\n 1   Ano da Emenda                       82609 non-null  object\n 2   Tipo de Emenda                      82609 non-null  object\n 3   Código do Autor da Emenda           82609 non-null  object\n 4   Nome do Autor da Emenda             82609 non-null  object\n 5   Número da emenda                    82609 non-null  object\n 6   Localidade de aplicação do recurso  82609 non-null  object\n 7   Código Município IBGE               82609 non-null  object\n 8   Município                           82609 non-null  object\n 9   Código UF IBGE                      82609 non-null  object\n 10  UF                                  82609 non-null  object\n 11  Região                              82609 non-null  object\n 12  Código Função                       82609 non-null  object\n 13  Nome Função                         82609 non-null  object\n 14  Código Subfunção                    82609 non-null  object\n 15  Nome Subfunção                      82609 non-null  object\n 16  Código Programa                     82609 non-null  object\n 17  Nome Programa                       82609 non-null  object\n 18  Código Ação                         82609 non-null  object\n 19  Nome Ação                           82609 non-null  object\n 20  Código Plano Orçamentário           82609 non-null  object\n 21  Nome Plano Orçamentário             82609 non-null  object\n 22  Valor Empenhado                     82609 non-null  object\n 23  Valor Liquidado                     82609 non-null  object\n 24  Valor Pago                          82609 non-null  object\n 25  Valor Restos A Pagar Inscritos      82609 non-null  object\n 26  Valor Restos A Pagar Cancelados     82609 non-null  object\n 27  Valor Restos A Pagar Pagos          82609 non-null  object\ndtypes: object(28)\nmemory usage: 17.6+ MB\nNone\n"
     ]
    }
   ],
   "source": [
    "print(df_bronze.info())"
   ]
  },
  {
   "cell_type": "markdown",
   "metadata": {
    "application/vnd.databricks.v1+cell": {
     "cellMetadata": {},
     "inputWidgets": {},
     "nuid": "0c07c8a5-7a60-4c69-8f31-69ee9d8d230d",
     "showTitle": false,
     "tableResultSettingsMap": {},
     "title": ""
    }
   },
   "source": [
    "## Qualidade de dados"
   ]
  },
  {
   "cell_type": "markdown",
   "metadata": {
    "application/vnd.databricks.v1+cell": {
     "cellMetadata": {},
     "inputWidgets": {},
     "nuid": "8b782858-d8d0-4727-abce-99264d94d55c",
     "showTitle": false,
     "tableResultSettingsMap": {},
     "title": ""
    }
   },
   "source": [
    "### Investigando as emendas sem código"
   ]
  },
  {
   "cell_type": "code",
   "execution_count": 0,
   "metadata": {
    "application/vnd.databricks.v1+cell": {
     "cellMetadata": {
      "byteLimit": 2048000,
      "rowLimit": 10000
     },
     "inputWidgets": {},
     "nuid": "db313782-ccf4-4a1a-84d3-9efb75cac1d6",
     "showTitle": false,
     "tableResultSettingsMap": {},
     "title": ""
    }
   },
   "outputs": [
    {
     "output_type": "stream",
     "name": "stdout",
     "output_type": "stream",
     "text": [
      "Numero de emendas sem código:  17736\nTipos de emendas com código:  5\nTipose de emendas sem código:  4\n\nDatas das emendas:  ['2014' '2015' '2016' '2017' '2018' '2019' '2020' '2021' '2022' '2023'\n '2024']\nEmendas sem código em:  ['2014' '2015' '2016' '2017' '2018' '2019' '2020']\n"
     ]
    }
   ],
   "source": [
    "### Investigando as emendas sem código\n",
    "print(\"Numero de emendas sem código: \", len(df_bronze[df_bronze[\"Código da Emenda\"] == \"Sem informação\"]))\n",
    "\n",
    "# tipos de emenda - descartando correlação de emendas sem código com seus tipos\n",
    "print(\"Tipos de emendas com código: \", len(df_bronze[\"Tipo de Emenda\"].unique()))\n",
    "print(\"Tipose de emendas sem código: \", len(df_bronze[df_bronze[\"Código da Emenda\"] == \"Sem informação\"][\"Tipo de Emenda\"].unique()))\n",
    "print()\n",
    "\n",
    "# em relação ao ano\n",
    "print(\"Datas das emendas: \", df_bronze[\"Ano da Emenda\"].unique())\n",
    "print(\"Emendas sem código em: \", df_bronze[df_bronze[\"Código da Emenda\"] == \"Sem informação\"][\"Ano da Emenda\"].unique())"
   ]
  },
  {
   "cell_type": "markdown",
   "metadata": {
    "application/vnd.databricks.v1+cell": {
     "cellMetadata": {},
     "inputWidgets": {},
     "nuid": "08be4cf9-d877-4365-997d-54afabd42b21",
     "showTitle": false,
     "tableResultSettingsMap": {},
     "title": ""
    }
   },
   "source": [
    "### Organização e limpeza dos dados I"
   ]
  },
  {
   "cell_type": "code",
   "execution_count": 0,
   "metadata": {
    "application/vnd.databricks.v1+cell": {
     "cellMetadata": {
      "byteLimit": 2048000,
      "rowLimit": 10000
     },
     "inputWidgets": {},
     "nuid": "1577fb4b-e86a-4297-91c3-75d247002421",
     "showTitle": false,
     "tableResultSettingsMap": {},
     "title": ""
    }
   },
   "outputs": [
    {
     "output_type": "stream",
     "name": "stdout",
     "output_type": "stream",
     "text": [
      "<class 'pandas.core.frame.DataFrame'>\nInt64Index: 25803 entries, 56806 to 82608\nData columns (total 10 columns):\n #   Column           Non-Null Count  Dtype  \n---  ------           --------------  -----  \n 0   codigo_emenda    25803 non-null  string \n 1   ano_emenda       25803 non-null  int64  \n 2   tipo_emenda      25803 non-null  string \n 3   nome_autor       25803 non-null  string \n 4   local_destino    25803 non-null  string \n 5   municipio        25803 non-null  string \n 6   uf               25803 non-null  string \n 7   regiao           25803 non-null  string \n 8   subfuncao        25803 non-null  string \n 9   valor_empenhado  25803 non-null  float64\ndtypes: float64(1), int64(1), string(8)\nmemory usage: 2.2 MB\n"
     ]
    }
   ],
   "source": [
    "df_silver = df_bronze.copy()\n",
    "\n",
    "# Convertendo os dtypes automaticamente para os mais adequados\n",
    "df_silver = df_silver.convert_dtypes()\n",
    "\n",
    "#\n",
    "df_silver[\"Ano da Emenda\"] = df_silver[\"Ano da Emenda\"].astype(int)\n",
    "\n",
    "# Removendo os anos em que há emendas sem código\n",
    "df_silver = df_silver[df_silver[\"Ano da Emenda\"] >= 2021]\n",
    "\n",
    "# removendo demais informações irrelevantes para a análise\n",
    "df_silver = df_silver.drop(columns=[\"Valor Restos A Pagar Inscritos\",\n",
    "                                    \"Valor Restos A Pagar Cancelados\",\n",
    "                                    \"Valor Restos A Pagar Pagos\",\n",
    "                                    \"Valor Pago\",\n",
    "                                    \"Valor Liquidado\",\n",
    "                                    \"Nome Ação\",\n",
    "                                    \"Nome Programa\",\n",
    "                                    \"Nome Plano Orçamentário\",\n",
    "                                    \"Nome Função\",\n",
    "                                    \"Número da emenda\",\n",
    "                                    \"Código do Autor da Emenda\",\n",
    "                                    \"Código Município IBGE\",\n",
    "                                    \"Código UF IBGE\",\n",
    "                                    \"Código Função\",\n",
    "                                    \"Código Subfunção\",\n",
    "                                    \"Código Programa\",\n",
    "                                    \"Código Ação\",\n",
    "                                    \"Código Plano Orçamentário\"])\n",
    "\n",
    "# Mudando o nome das colunas\n",
    "map = {\n",
    "    \"Código da Emenda\": \"codigo_emenda\",\n",
    "    \"Ano da Emenda\": \"ano_emenda\",\n",
    "    \"Tipo de Emenda\": \"tipo_emenda\",\n",
    "    \"Nome do Autor da Emenda\": \"nome_autor\",\n",
    "    \"Número da Emenda\": \"numero_emenda\",\n",
    "    \"Localidade de aplicação do recurso\": \"local_destino\",\n",
    "    \"Município\": \"municipio\",\n",
    "    \"UF\": \"uf\",\n",
    "    \"Região\": \"regiao\",\n",
    "    \"Nome Subfunção\": \"subfuncao\",\n",
    "    \"Valor Empenhado\": \"valor_empenhado\"\n",
    "    }\n",
    "\n",
    "df_silver = df_silver.rename(columns=map)\n",
    "\n",
    "# convertendo as colunas de valores para float\n",
    "df_silver[\"valor_empenhado\"] = df_silver[\"valor_empenhado\"].str.replace(',', '.').astype(float)\n",
    "\n",
    "df_silver.info()"
   ]
  },
  {
   "cell_type": "code",
   "execution_count": 0,
   "metadata": {
    "application/vnd.databricks.v1+cell": {
     "cellMetadata": {
      "byteLimit": 2048000,
      "rowLimit": 10000
     },
     "inputWidgets": {},
     "nuid": "ba649a1d-8440-4eb2-ba70-0189194f33e3",
     "showTitle": false,
     "tableResultSettingsMap": {},
     "title": ""
    }
   },
   "outputs": [
    {
     "output_type": "display_data",
     "data": {
      "text/html": [
       "<div>\n",
       "<style scoped>\n",
       "    .dataframe tbody tr th:only-of-type {\n",
       "        vertical-align: middle;\n",
       "    }\n",
       "\n",
       "    .dataframe tbody tr th {\n",
       "        vertical-align: top;\n",
       "    }\n",
       "\n",
       "    .dataframe thead th {\n",
       "        text-align: right;\n",
       "    }\n",
       "</style>\n",
       "<table border=\"1\" class=\"dataframe\">\n",
       "  <thead>\n",
       "    <tr style=\"text-align: right;\">\n",
       "      <th></th>\n",
       "      <th>codigo_emenda</th>\n",
       "      <th>ano_emenda</th>\n",
       "      <th>tipo_emenda</th>\n",
       "      <th>nome_autor</th>\n",
       "      <th>local_destino</th>\n",
       "      <th>municipio</th>\n",
       "      <th>uf</th>\n",
       "      <th>regiao</th>\n",
       "      <th>subfuncao</th>\n",
       "      <th>valor_empenhado</th>\n",
       "    </tr>\n",
       "  </thead>\n",
       "  <tbody>\n",
       "    <tr>\n",
       "      <th>77703</th>\n",
       "      <td>202443500009</td>\n",
       "      <td>2024</td>\n",
       "      <td>Emenda Individual - Transferências com Finalid...</td>\n",
       "      <td>DELEGADO PAULO BILYNSKYJ</td>\n",
       "      <td>MÚLTIPLO</td>\n",
       "      <td>Múltiplo</td>\n",
       "      <td>SÃO PAULO</td>\n",
       "      <td>Sudeste</td>\n",
       "      <td>Assistência comunitária</td>\n",
       "      <td>1000000.0</td>\n",
       "    </tr>\n",
       "    <tr>\n",
       "      <th>72721</th>\n",
       "      <td>202327450021</td>\n",
       "      <td>2023</td>\n",
       "      <td>Emenda Individual - Transferências Especiais</td>\n",
       "      <td>JOSE NUNES</td>\n",
       "      <td>FIRMINO ALVES - BA</td>\n",
       "      <td>FIRMINO ALVES</td>\n",
       "      <td>BAHIA</td>\n",
       "      <td>Nordeste</td>\n",
       "      <td>Outras transferências</td>\n",
       "      <td>1547748.0</td>\n",
       "    </tr>\n",
       "    <tr>\n",
       "      <th>64158</th>\n",
       "      <td>202271080014</td>\n",
       "      <td>2022</td>\n",
       "      <td>Emenda de Bancada</td>\n",
       "      <td>BANCADA DO DISTRITO FEDERAL</td>\n",
       "      <td>DISTRITO FEDERAL (UF)</td>\n",
       "      <td>Sem informação</td>\n",
       "      <td>DISTRITO FEDERAL</td>\n",
       "      <td>Centro-Oeste</td>\n",
       "      <td>Policiamento</td>\n",
       "      <td>30352174.0</td>\n",
       "    </tr>\n",
       "    <tr>\n",
       "      <th>82147</th>\n",
       "      <td>202442790007</td>\n",
       "      <td>2024</td>\n",
       "      <td>Emenda Individual - Transferências com Finalid...</td>\n",
       "      <td>TEREZA CRISTINA</td>\n",
       "      <td>CAMPO GRANDE - MS</td>\n",
       "      <td>CAMPO GRANDE</td>\n",
       "      <td>MATO GROSSO DO SUL</td>\n",
       "      <td>Centro-Oeste</td>\n",
       "      <td>Assistência comunitária</td>\n",
       "      <td>200000.0</td>\n",
       "    </tr>\n",
       "    <tr>\n",
       "      <th>67021</th>\n",
       "      <td>202237040003</td>\n",
       "      <td>2022</td>\n",
       "      <td>Emenda Individual - Transferências com Finalid...</td>\n",
       "      <td>LUCAS VERGILIO</td>\n",
       "      <td>CAMPOS VERDES - GO</td>\n",
       "      <td>CAMPOS VERDES</td>\n",
       "      <td>GOIÁS</td>\n",
       "      <td>Centro-Oeste</td>\n",
       "      <td>Atenção básica</td>\n",
       "      <td>108483.0</td>\n",
       "    </tr>\n",
       "  </tbody>\n",
       "</table>\n",
       "</div>"
      ]
     },
     "metadata": {
      "application/vnd.databricks.v1+output": {
       "addedWidgets": {},
       "arguments": {},
       "data": "<div>\n<style scoped>\n    .dataframe tbody tr th:only-of-type {\n        vertical-align: middle;\n    }\n\n    .dataframe tbody tr th {\n        vertical-align: top;\n    }\n\n    .dataframe thead th {\n        text-align: right;\n    }\n</style>\n<table border=\"1\" class=\"dataframe\">\n  <thead>\n    <tr style=\"text-align: right;\">\n      <th></th>\n      <th>codigo_emenda</th>\n      <th>ano_emenda</th>\n      <th>tipo_emenda</th>\n      <th>nome_autor</th>\n      <th>local_destino</th>\n      <th>municipio</th>\n      <th>uf</th>\n      <th>regiao</th>\n      <th>subfuncao</th>\n      <th>valor_empenhado</th>\n    </tr>\n  </thead>\n  <tbody>\n    <tr>\n      <th>77703</th>\n      <td>202443500009</td>\n      <td>2024</td>\n      <td>Emenda Individual - Transferências com Finalid...</td>\n      <td>DELEGADO PAULO BILYNSKYJ</td>\n      <td>MÚLTIPLO</td>\n      <td>Múltiplo</td>\n      <td>SÃO PAULO</td>\n      <td>Sudeste</td>\n      <td>Assistência comunitária</td>\n      <td>1000000.0</td>\n    </tr>\n    <tr>\n      <th>72721</th>\n      <td>202327450021</td>\n      <td>2023</td>\n      <td>Emenda Individual - Transferências Especiais</td>\n      <td>JOSE NUNES</td>\n      <td>FIRMINO ALVES - BA</td>\n      <td>FIRMINO ALVES</td>\n      <td>BAHIA</td>\n      <td>Nordeste</td>\n      <td>Outras transferências</td>\n      <td>1547748.0</td>\n    </tr>\n    <tr>\n      <th>64158</th>\n      <td>202271080014</td>\n      <td>2022</td>\n      <td>Emenda de Bancada</td>\n      <td>BANCADA DO DISTRITO FEDERAL</td>\n      <td>DISTRITO FEDERAL (UF)</td>\n      <td>Sem informação</td>\n      <td>DISTRITO FEDERAL</td>\n      <td>Centro-Oeste</td>\n      <td>Policiamento</td>\n      <td>30352174.0</td>\n    </tr>\n    <tr>\n      <th>82147</th>\n      <td>202442790007</td>\n      <td>2024</td>\n      <td>Emenda Individual - Transferências com Finalid...</td>\n      <td>TEREZA CRISTINA</td>\n      <td>CAMPO GRANDE - MS</td>\n      <td>CAMPO GRANDE</td>\n      <td>MATO GROSSO DO SUL</td>\n      <td>Centro-Oeste</td>\n      <td>Assistência comunitária</td>\n      <td>200000.0</td>\n    </tr>\n    <tr>\n      <th>67021</th>\n      <td>202237040003</td>\n      <td>2022</td>\n      <td>Emenda Individual - Transferências com Finalid...</td>\n      <td>LUCAS VERGILIO</td>\n      <td>CAMPOS VERDES - GO</td>\n      <td>CAMPOS VERDES</td>\n      <td>GOIÁS</td>\n      <td>Centro-Oeste</td>\n      <td>Atenção básica</td>\n      <td>108483.0</td>\n    </tr>\n  </tbody>\n</table>\n</div>",
       "datasetInfos": [],
       "metadata": {},
       "removedWidgets": [],
       "textData": null,
       "type": "htmlSandbox"
      }
     },
     "output_type": "display_data"
    }
   ],
   "source": [
    "df_silver.sample(5)"
   ]
  },
  {
   "cell_type": "markdown",
   "metadata": {
    "application/vnd.databricks.v1+cell": {
     "cellMetadata": {},
     "inputWidgets": {},
     "nuid": "0f691dd7-2150-4c63-829e-b093b277918a",
     "showTitle": false,
     "tableResultSettingsMap": {},
     "title": ""
    }
   },
   "source": [
    "### Analisando valores faltantes"
   ]
  },
  {
   "cell_type": "code",
   "execution_count": 0,
   "metadata": {
    "application/vnd.databricks.v1+cell": {
     "cellMetadata": {
      "byteLimit": 2048000,
      "rowLimit": 10000
     },
     "inputWidgets": {},
     "nuid": "a003134b-2981-4075-b0a7-1367b0ad2d4c",
     "showTitle": false,
     "tableResultSettingsMap": {},
     "title": ""
    }
   },
   "outputs": [
    {
     "output_type": "stream",
     "name": "stdout",
     "output_type": "stream",
     "text": [
      "Emenda Individual - Transferências com Finalid...    20666\nEmenda Individual - Transferências Especiais          3484\nEmenda de Bancada                                     1417\nEmenda de Comissão                                     182\nEmenda de Relator                                       54\nName: tipo_emenda, dtype: Int64 \n\nMÚLTIPLO                    9979\nNacional                    2000\nRIO DE JANEIRO (UF)          964\nSÃO PAULO (UF)               938\nMINAS GERAIS (UF)            689\n                            ... \nBELA VISTA DE MINAS - MG       1\nCATOLÉ DO ROCHA - PB           1\nENGENHEIRO BELTRÃO - PR        1\nITAJU - SP                     1\nANAPU - PA                     1\nName: local_destino, Length: 1986, dtype: Int64 \n\nSudeste         8098\nNordeste        6746\nSul             3315\nNorte           3091\nCentro-Oeste    2170\nNacional        2000\nMúltiplo         336\nExterior          47\nName: regiao, dtype: Int64 \n\nSem informação         10189\nMúltiplo                9910\nRIO DE JANEIRO           190\nJOÃO PESSOA              103\nSÃO PAULO                 67\n                       ...  \nBELA VISTA DE MINAS        1\nCATOLÉ DO ROCHA            1\nENGENHEIRO BELTRÃO         1\nITAJU                      1\nANAPU                      1\nName: municipio, Length: 1914, dtype: Int64\n"
     ]
    }
   ],
   "source": [
    "# Entendendo as variáveis categóricas\n",
    "print(df_silver[\"tipo_emenda\"].value_counts(), \"\\n\")\n",
    "print(df_silver[\"local_destino\"].value_counts(), \"\\n\")\n",
    "print(df_silver[\"regiao\"].value_counts(), \"\\n\")\n",
    "print(df_silver[\"municipio\"].value_counts())"
   ]
  },
  {
   "cell_type": "markdown",
   "metadata": {
    "application/vnd.databricks.v1+cell": {
     "cellMetadata": {},
     "inputWidgets": {},
     "nuid": "3604a25a-158f-4a30-88b6-caa1df414ed1",
     "showTitle": false,
     "tableResultSettingsMap": {},
     "title": ""
    }
   },
   "source": [
    "Algumas informações importtantes e interessantes aparecem.\n",
    "Por exemplo:\n",
    "- \"Sem informação\" aparece como valor nas colunas \"municipio\" e \"uf\"\n",
    "\n",
    "- Em \"regiao\" além das regiões do país aparecem as informações \"nacional\", \"múltipl\" e, curiosamente, \"exterior\".\n",
    "\n",
    "- o valor \"múltiplo\" ocorre com formatações distintas (Múltiplo e MÚLTIPLO)"
   ]
  },
  {
   "cell_type": "code",
   "execution_count": 0,
   "metadata": {
    "application/vnd.databricks.v1+cell": {
     "cellMetadata": {
      "byteLimit": 2048000,
      "rowLimit": 10000
     },
     "inputWidgets": {},
     "nuid": "0fe66aa5-bea0-4237-bcc5-28dcbfddfe01",
     "showTitle": false,
     "tableResultSettingsMap": {},
     "title": ""
    }
   },
   "outputs": [
    {
     "output_type": "stream",
     "name": "stdout",
     "output_type": "stream",
     "text": [
      "False    25803\nName: local_destino, dtype: Int64 \n\nFalse    25803\nName: regiao, dtype: Int64 \n\nFalse    23647\nTrue      2156\nName: uf, dtype: Int64 \n\nFalse    15614\nTrue     10189\nName: municipio, dtype: Int64\n"
     ]
    }
   ],
   "source": [
    "# Valores faltantes nas informações de lugar\n",
    "print((df_silver[\"local_destino\"] == \"Sem informação\").value_counts(), \"\\n\")\n",
    "\n",
    "print((df_silver[\"regiao\"] == \"Sem informação\").value_counts(), \"\\n\")\n",
    "\n",
    "print((df_silver[\"uf\"] == \"Sem informação\").value_counts(), \"\\n\")\n",
    "\n",
    "print((df_silver[\"municipio\"] == \"Sem informação\").value_counts())"
   ]
  },
  {
   "cell_type": "code",
   "execution_count": 0,
   "metadata": {
    "application/vnd.databricks.v1+cell": {
     "cellMetadata": {
      "byteLimit": 2048000,
      "rowLimit": 10000
     },
     "inputWidgets": {},
     "nuid": "2868a4d6-a574-443a-82f3-f9d751610aec",
     "showTitle": false,
     "tableResultSettingsMap": {},
     "title": ""
    }
   },
   "outputs": [
    {
     "output_type": "stream",
     "name": "stdout",
     "output_type": "stream",
     "text": [
      "Out[22]: uf              municipio       local_destino\nSem informação  Sem informação  Nacional         2000\n                                Exterior           47\n                                Sul                30\n                                Centro-Oeste       29\n                                Norte              19\n                                Nordeste           16\n                                Sudeste            15\ndtype: int64"
     ]
    }
   ],
   "source": [
    "# verificando se municípios e UFs sem informação então preenchidas em local_destino\n",
    "\n",
    "df_silver[df_silver[\"uf\"] == \"Sem informação\"][[\"uf\",\"municipio\",\"local_destino\"]].value_counts()"
   ]
  },
  {
   "cell_type": "markdown",
   "metadata": {
    "application/vnd.databricks.v1+cell": {
     "cellMetadata": {},
     "inputWidgets": {},
     "nuid": "a6526832-64f6-4492-b6bb-5dc204e54525",
     "showTitle": false,
     "tableResultSettingsMap": {},
     "title": ""
    }
   },
   "source": [
    "Fica claro que os valores faltantes em \"uf\" e \"municipo\" não são decorrentes de falha, e sim por que estas emendas abrangem grupos maiores de lugares.\n",
    "Não há necessidade de tratamento nesse caso"
   ]
  },
  {
   "cell_type": "code",
   "execution_count": 0,
   "metadata": {
    "application/vnd.databricks.v1+cell": {
     "cellMetadata": {
      "byteLimit": 2048000,
      "rowLimit": 10000
     },
     "inputWidgets": {},
     "nuid": "3293996a-0487-4c25-97b9-6f7b138ca19a",
     "showTitle": false,
     "tableResultSettingsMap": {},
     "title": ""
    }
   },
   "outputs": [
    {
     "output_type": "stream",
     "name": "stdout",
     "output_type": "stream",
     "text": [
      "Out[23]: False    15893\nTrue      9910\nName: municipio, dtype: Int64"
     ]
    }
   ],
   "source": [
    "(df_silver[\"municipio\"] == \"Múltiplo\").value_counts()"
   ]
  },
  {
   "cell_type": "markdown",
   "metadata": {
    "application/vnd.databricks.v1+cell": {
     "cellMetadata": {},
     "inputWidgets": {},
     "nuid": "444989f3-4c97-46ba-afbb-32b00144a8ac",
     "showTitle": false,
     "tableResultSettingsMap": {},
     "title": ""
    }
   },
   "source": [
    "### Organização e limpeza dos dados II"
   ]
  },
  {
   "cell_type": "code",
   "execution_count": 0,
   "metadata": {
    "application/vnd.databricks.v1+cell": {
     "cellMetadata": {
      "byteLimit": 2048000,
      "rowLimit": 10000
     },
     "inputWidgets": {},
     "nuid": "6fb692d1-77ca-4c76-bb4f-6f5bab39fd37",
     "showTitle": false,
     "tableResultSettingsMap": {},
     "title": ""
    }
   },
   "outputs": [],
   "source": [
    "# Padronizando a categoria \"múltiplo\"\n",
    "df_silver[\"local_destino\"] = df_silver['local_destino'].replace('MÚLTIPLO', 'Múltiplo')\n",
    "\n",
    "# Transformando \"Sem informação\" em \"Múltiplo\" nas categorias municipio e uf\n",
    "df_silver[\"municipio\"] = df_silver[\"municipio\"].replace(\"Sem informação\", \"Múltiplo\")\n",
    "df_silver[\"uf\"] = df_silver[\"uf\"].replace(\"Sem informação\", \"Múltiplo\")"
   ]
  },
  {
   "cell_type": "markdown",
   "metadata": {
    "application/vnd.databricks.v1+cell": {
     "cellMetadata": {},
     "inputWidgets": {},
     "nuid": "0c15fb70-fc42-455a-8864-a0cf997b6008",
     "showTitle": false,
     "tableResultSettingsMap": {},
     "title": ""
    }
   },
   "source": [
    "### O código das emendas é realmente único?"
   ]
  },
  {
   "cell_type": "code",
   "execution_count": 0,
   "metadata": {
    "application/vnd.databricks.v1+cell": {
     "cellMetadata": {
      "byteLimit": 2048000,
      "rowLimit": 10000
     },
     "inputWidgets": {},
     "nuid": "03c37a76-ce12-4939-a4b0-9938695579f6",
     "showTitle": false,
     "tableResultSettingsMap": {},
     "title": ""
    }
   },
   "outputs": [
    {
     "output_type": "stream",
     "name": "stdout",
     "output_type": "stream",
     "text": [
      "codigo_emenda possui apenas valores únicos?  False\nQuantidade de emendas com código igual:  55\n"
     ]
    },
    {
     "output_type": "display_data",
     "data": {
      "text/html": [
       "<div>\n",
       "<style scoped>\n",
       "    .dataframe tbody tr th:only-of-type {\n",
       "        vertical-align: middle;\n",
       "    }\n",
       "\n",
       "    .dataframe tbody tr th {\n",
       "        vertical-align: top;\n",
       "    }\n",
       "\n",
       "    .dataframe thead th {\n",
       "        text-align: right;\n",
       "    }\n",
       "</style>\n",
       "<table border=\"1\" class=\"dataframe\">\n",
       "  <thead>\n",
       "    <tr style=\"text-align: right;\">\n",
       "      <th></th>\n",
       "      <th>codigo_emenda</th>\n",
       "      <th>ano_emenda</th>\n",
       "      <th>tipo_emenda</th>\n",
       "      <th>nome_autor</th>\n",
       "      <th>local_destino</th>\n",
       "      <th>municipio</th>\n",
       "      <th>uf</th>\n",
       "      <th>regiao</th>\n",
       "      <th>subfuncao</th>\n",
       "      <th>valor_empenhado</th>\n",
       "    </tr>\n",
       "  </thead>\n",
       "  <tbody>\n",
       "    <tr>\n",
       "      <th>70490</th>\n",
       "      <td>202330610003</td>\n",
       "      <td>2023</td>\n",
       "      <td>Emenda Individual - Transferências com Finalid...</td>\n",
       "      <td>CACA LEAO</td>\n",
       "      <td>BAHIA (UF)</td>\n",
       "      <td>Múltiplo</td>\n",
       "      <td>BAHIA</td>\n",
       "      <td>Nordeste</td>\n",
       "      <td>Promoção da produção agropecuária</td>\n",
       "      <td>440000.00</td>\n",
       "    </tr>\n",
       "    <tr>\n",
       "      <th>70491</th>\n",
       "      <td>202330610003</td>\n",
       "      <td>2023</td>\n",
       "      <td>Emenda Individual - Transferências Especiais</td>\n",
       "      <td>CACA LEAO</td>\n",
       "      <td>Múltiplo</td>\n",
       "      <td>Múltiplo</td>\n",
       "      <td>BAHIA</td>\n",
       "      <td>Nordeste</td>\n",
       "      <td>Outras transferências</td>\n",
       "      <td>11298284.00</td>\n",
       "    </tr>\n",
       "    <tr>\n",
       "      <th>71563</th>\n",
       "      <td>202339740005</td>\n",
       "      <td>2023</td>\n",
       "      <td>Emenda Individual - Transferências Especiais</td>\n",
       "      <td>ELIAS VAZ</td>\n",
       "      <td>Múltiplo</td>\n",
       "      <td>Múltiplo</td>\n",
       "      <td>Múltiplo</td>\n",
       "      <td>Centro-Oeste</td>\n",
       "      <td>Outras transferências</td>\n",
       "      <td>10495847.00</td>\n",
       "    </tr>\n",
       "    <tr>\n",
       "      <th>71564</th>\n",
       "      <td>202339740005</td>\n",
       "      <td>2023</td>\n",
       "      <td>Emenda Individual - Transferências com Finalid...</td>\n",
       "      <td>ELIAS VAZ</td>\n",
       "      <td>Múltiplo</td>\n",
       "      <td>Múltiplo</td>\n",
       "      <td>Múltiplo</td>\n",
       "      <td>Múltiplo</td>\n",
       "      <td>Policiamento</td>\n",
       "      <td>1206060.95</td>\n",
       "    </tr>\n",
       "  </tbody>\n",
       "</table>\n",
       "</div>"
      ]
     },
     "metadata": {
      "application/vnd.databricks.v1+output": {
       "addedWidgets": {},
       "arguments": {},
       "data": "<div>\n<style scoped>\n    .dataframe tbody tr th:only-of-type {\n        vertical-align: middle;\n    }\n\n    .dataframe tbody tr th {\n        vertical-align: top;\n    }\n\n    .dataframe thead th {\n        text-align: right;\n    }\n</style>\n<table border=\"1\" class=\"dataframe\">\n  <thead>\n    <tr style=\"text-align: right;\">\n      <th></th>\n      <th>codigo_emenda</th>\n      <th>ano_emenda</th>\n      <th>tipo_emenda</th>\n      <th>nome_autor</th>\n      <th>local_destino</th>\n      <th>municipio</th>\n      <th>uf</th>\n      <th>regiao</th>\n      <th>subfuncao</th>\n      <th>valor_empenhado</th>\n    </tr>\n  </thead>\n  <tbody>\n    <tr>\n      <th>70490</th>\n      <td>202330610003</td>\n      <td>2023</td>\n      <td>Emenda Individual - Transferências com Finalid...</td>\n      <td>CACA LEAO</td>\n      <td>BAHIA (UF)</td>\n      <td>Múltiplo</td>\n      <td>BAHIA</td>\n      <td>Nordeste</td>\n      <td>Promoção da produção agropecuária</td>\n      <td>440000.00</td>\n    </tr>\n    <tr>\n      <th>70491</th>\n      <td>202330610003</td>\n      <td>2023</td>\n      <td>Emenda Individual - Transferências Especiais</td>\n      <td>CACA LEAO</td>\n      <td>Múltiplo</td>\n      <td>Múltiplo</td>\n      <td>BAHIA</td>\n      <td>Nordeste</td>\n      <td>Outras transferências</td>\n      <td>11298284.00</td>\n    </tr>\n    <tr>\n      <th>71563</th>\n      <td>202339740005</td>\n      <td>2023</td>\n      <td>Emenda Individual - Transferências Especiais</td>\n      <td>ELIAS VAZ</td>\n      <td>Múltiplo</td>\n      <td>Múltiplo</td>\n      <td>Múltiplo</td>\n      <td>Centro-Oeste</td>\n      <td>Outras transferências</td>\n      <td>10495847.00</td>\n    </tr>\n    <tr>\n      <th>71564</th>\n      <td>202339740005</td>\n      <td>2023</td>\n      <td>Emenda Individual - Transferências com Finalid...</td>\n      <td>ELIAS VAZ</td>\n      <td>Múltiplo</td>\n      <td>Múltiplo</td>\n      <td>Múltiplo</td>\n      <td>Múltiplo</td>\n      <td>Policiamento</td>\n      <td>1206060.95</td>\n    </tr>\n  </tbody>\n</table>\n</div>",
       "datasetInfos": [],
       "metadata": {},
       "removedWidgets": [],
       "textData": null,
       "type": "htmlSandbox"
      }
     },
     "output_type": "display_data"
    }
   ],
   "source": [
    "# A coluna tem apenas valores únicos?\n",
    "print(\"codigo_emenda possui apenas valores únicos? \", df_silver[\"codigo_emenda\"].is_unique)\n",
    "\n",
    "# Quantidade de valores duplicados\n",
    "contagem = df_silver['codigo_emenda'].value_counts()\n",
    "print(\"Quantidade de emendas com código igual: \", len(contagem[contagem > 1]))\n",
    "\n",
    "# Verificando os valores duplicados\n",
    "codigo_emenda_duplicado = df_silver[df_silver['codigo_emenda'].duplicated(keep=False)]\n",
    "codigo_emenda_duplicado.head(4)"
   ]
  },
  {
   "cell_type": "markdown",
   "metadata": {
    "application/vnd.databricks.v1+cell": {
     "cellMetadata": {},
     "inputWidgets": {},
     "nuid": "11d6a205-f403-4328-a931-b36ad387b24a",
     "showTitle": false,
     "tableResultSettingsMap": {},
     "title": ""
    }
   },
   "source": [
    "### Eliminando as emendas com código duplicado"
   ]
  },
  {
   "cell_type": "code",
   "execution_count": 0,
   "metadata": {
    "application/vnd.databricks.v1+cell": {
     "cellMetadata": {
      "byteLimit": 2048000,
      "rowLimit": 10000
     },
     "inputWidgets": {},
     "nuid": "be5a8702-d772-46c1-84fc-078874ef3e9e",
     "showTitle": false,
     "tableResultSettingsMap": {},
     "title": ""
    }
   },
   "outputs": [
    {
     "output_type": "stream",
     "name": "stdout",
     "output_type": "stream",
     "text": [
      "codigo_emenda possui apenas valores únicos?  True\n"
     ]
    }
   ],
   "source": [
    "df_silver = df_silver.drop_duplicates(subset=\"codigo_emenda\")\n",
    "resultado = len(df_silver) == len(df_silver[\"codigo_emenda\"].unique())\n",
    "\n",
    "print(\"codigo_emenda possui apenas valores únicos? \", resultado)"
   ]
  },
  {
   "cell_type": "markdown",
   "metadata": {
    "application/vnd.databricks.v1+cell": {
     "cellMetadata": {},
     "inputWidgets": {},
     "nuid": "7181c155-d6d0-4e73-be2f-43a5f6632bf2",
     "showTitle": false,
     "tableResultSettingsMap": {},
     "title": ""
    }
   },
   "source": [
    "### Camada Gold"
   ]
  },
  {
   "cell_type": "code",
   "execution_count": 0,
   "metadata": {
    "application/vnd.databricks.v1+cell": {
     "cellMetadata": {
      "byteLimit": 2048000,
      "rowLimit": 10000
     },
     "inputWidgets": {},
     "nuid": "e4073616-74ad-4f3b-a58b-78ab6456e51f",
     "showTitle": false,
     "tableResultSettingsMap": {},
     "title": ""
    }
   },
   "outputs": [
    {
     "output_type": "display_data",
     "data": {
      "text/html": [
       "<div>\n",
       "<style scoped>\n",
       "    .dataframe tbody tr th:only-of-type {\n",
       "        vertical-align: middle;\n",
       "    }\n",
       "\n",
       "    .dataframe tbody tr th {\n",
       "        vertical-align: top;\n",
       "    }\n",
       "\n",
       "    .dataframe thead th {\n",
       "        text-align: right;\n",
       "    }\n",
       "</style>\n",
       "<table border=\"1\" class=\"dataframe\">\n",
       "  <thead>\n",
       "    <tr style=\"text-align: right;\">\n",
       "      <th></th>\n",
       "      <th>codigo_emenda</th>\n",
       "      <th>ano_emenda</th>\n",
       "      <th>tipo_emenda</th>\n",
       "      <th>nome_autor</th>\n",
       "      <th>local_destino</th>\n",
       "      <th>municipio</th>\n",
       "      <th>uf</th>\n",
       "      <th>regiao</th>\n",
       "      <th>subfuncao</th>\n",
       "      <th>valor_empenhado</th>\n",
       "    </tr>\n",
       "  </thead>\n",
       "  <tbody>\n",
       "    <tr>\n",
       "      <th>82160</th>\n",
       "      <td>202442790022</td>\n",
       "      <td>2024</td>\n",
       "      <td>Emenda Individual - Transferências com Finalid...</td>\n",
       "      <td>TEREZA CRISTINA</td>\n",
       "      <td>Múltiplo</td>\n",
       "      <td>Múltiplo</td>\n",
       "      <td>MATO GROSSO DO SUL</td>\n",
       "      <td>Centro-Oeste</td>\n",
       "      <td>Atenção básica</td>\n",
       "      <td>7811145.00</td>\n",
       "    </tr>\n",
       "    <tr>\n",
       "      <th>59020</th>\n",
       "      <td>202122100012</td>\n",
       "      <td>2021</td>\n",
       "      <td>Emenda Individual - Transferências com Finalid...</td>\n",
       "      <td>ESPERIDIAO AMIN</td>\n",
       "      <td>Nacional</td>\n",
       "      <td>Múltiplo</td>\n",
       "      <td>Múltiplo</td>\n",
       "      <td>Nacional</td>\n",
       "      <td>Defesa naval</td>\n",
       "      <td>200000.00</td>\n",
       "    </tr>\n",
       "    <tr>\n",
       "      <th>70371</th>\n",
       "      <td>202371220013</td>\n",
       "      <td>2023</td>\n",
       "      <td>Emenda de Bancada</td>\n",
       "      <td>BANCADA DO RIO GRANDE DO SUL</td>\n",
       "      <td>RIO GRANDE DO SUL (UF)</td>\n",
       "      <td>Múltiplo</td>\n",
       "      <td>RIO GRANDE DO SUL</td>\n",
       "      <td>Sul</td>\n",
       "      <td>Transporte rodoviário</td>\n",
       "      <td>4500000.00</td>\n",
       "    </tr>\n",
       "    <tr>\n",
       "      <th>76588</th>\n",
       "      <td>202471130011</td>\n",
       "      <td>2024</td>\n",
       "      <td>Emenda de Bancada</td>\n",
       "      <td>BANCADA DO MATO GROSSO DO SUL</td>\n",
       "      <td>MATO GROSSO DO SUL (UF)</td>\n",
       "      <td>Múltiplo</td>\n",
       "      <td>MATO GROSSO DO SUL</td>\n",
       "      <td>Centro-Oeste</td>\n",
       "      <td>Ensino profissional</td>\n",
       "      <td>7846573.49</td>\n",
       "    </tr>\n",
       "    <tr>\n",
       "      <th>81719</th>\n",
       "      <td>202427150003</td>\n",
       "      <td>2024</td>\n",
       "      <td>Emenda Individual - Transferências com Finalid...</td>\n",
       "      <td>RUY CARNEIRO</td>\n",
       "      <td>Múltiplo</td>\n",
       "      <td>Múltiplo</td>\n",
       "      <td>PARAÍBA</td>\n",
       "      <td>Nordeste</td>\n",
       "      <td>Atenção básica</td>\n",
       "      <td>131480.00</td>\n",
       "    </tr>\n",
       "  </tbody>\n",
       "</table>\n",
       "</div>"
      ]
     },
     "metadata": {
      "application/vnd.databricks.v1+output": {
       "addedWidgets": {},
       "arguments": {},
       "data": "<div>\n<style scoped>\n    .dataframe tbody tr th:only-of-type {\n        vertical-align: middle;\n    }\n\n    .dataframe tbody tr th {\n        vertical-align: top;\n    }\n\n    .dataframe thead th {\n        text-align: right;\n    }\n</style>\n<table border=\"1\" class=\"dataframe\">\n  <thead>\n    <tr style=\"text-align: right;\">\n      <th></th>\n      <th>codigo_emenda</th>\n      <th>ano_emenda</th>\n      <th>tipo_emenda</th>\n      <th>nome_autor</th>\n      <th>local_destino</th>\n      <th>municipio</th>\n      <th>uf</th>\n      <th>regiao</th>\n      <th>subfuncao</th>\n      <th>valor_empenhado</th>\n    </tr>\n  </thead>\n  <tbody>\n    <tr>\n      <th>82160</th>\n      <td>202442790022</td>\n      <td>2024</td>\n      <td>Emenda Individual - Transferências com Finalid...</td>\n      <td>TEREZA CRISTINA</td>\n      <td>Múltiplo</td>\n      <td>Múltiplo</td>\n      <td>MATO GROSSO DO SUL</td>\n      <td>Centro-Oeste</td>\n      <td>Atenção básica</td>\n      <td>7811145.00</td>\n    </tr>\n    <tr>\n      <th>59020</th>\n      <td>202122100012</td>\n      <td>2021</td>\n      <td>Emenda Individual - Transferências com Finalid...</td>\n      <td>ESPERIDIAO AMIN</td>\n      <td>Nacional</td>\n      <td>Múltiplo</td>\n      <td>Múltiplo</td>\n      <td>Nacional</td>\n      <td>Defesa naval</td>\n      <td>200000.00</td>\n    </tr>\n    <tr>\n      <th>70371</th>\n      <td>202371220013</td>\n      <td>2023</td>\n      <td>Emenda de Bancada</td>\n      <td>BANCADA DO RIO GRANDE DO SUL</td>\n      <td>RIO GRANDE DO SUL (UF)</td>\n      <td>Múltiplo</td>\n      <td>RIO GRANDE DO SUL</td>\n      <td>Sul</td>\n      <td>Transporte rodoviário</td>\n      <td>4500000.00</td>\n    </tr>\n    <tr>\n      <th>76588</th>\n      <td>202471130011</td>\n      <td>2024</td>\n      <td>Emenda de Bancada</td>\n      <td>BANCADA DO MATO GROSSO DO SUL</td>\n      <td>MATO GROSSO DO SUL (UF)</td>\n      <td>Múltiplo</td>\n      <td>MATO GROSSO DO SUL</td>\n      <td>Centro-Oeste</td>\n      <td>Ensino profissional</td>\n      <td>7846573.49</td>\n    </tr>\n    <tr>\n      <th>81719</th>\n      <td>202427150003</td>\n      <td>2024</td>\n      <td>Emenda Individual - Transferências com Finalid...</td>\n      <td>RUY CARNEIRO</td>\n      <td>Múltiplo</td>\n      <td>Múltiplo</td>\n      <td>PARAÍBA</td>\n      <td>Nordeste</td>\n      <td>Atenção básica</td>\n      <td>131480.00</td>\n    </tr>\n  </tbody>\n</table>\n</div>",
       "datasetInfos": [],
       "metadata": {},
       "removedWidgets": [],
       "textData": null,
       "type": "htmlSandbox"
      }
     },
     "output_type": "display_data"
    }
   ],
   "source": [
    "df_gold = df_silver.copy()\n",
    "df_gold.sample(5)"
   ]
  },
  {
   "cell_type": "code",
   "execution_count": 0,
   "metadata": {
    "application/vnd.databricks.v1+cell": {
     "cellMetadata": {
      "byteLimit": 2048000,
      "rowLimit": 10000
     },
     "inputWidgets": {},
     "nuid": "d82b7bac-22ca-47da-854e-82f092418f23",
     "showTitle": false,
     "tableResultSettingsMap": {},
     "title": ""
    }
   },
   "outputs": [
    {
     "output_type": "stream",
     "name": "stdout",
     "output_type": "stream",
     "text": [
      "<class 'pandas.core.frame.DataFrame'>\nInt64Index: 25748 entries, 56806 to 82608\nData columns (total 10 columns):\n #   Column           Non-Null Count  Dtype  \n---  ------           --------------  -----  \n 0   codigo_emenda    25748 non-null  string \n 1   ano_emenda       25748 non-null  int64  \n 2   tipo_emenda      25748 non-null  string \n 3   nome_autor       25748 non-null  string \n 4   local_destino    25748 non-null  string \n 5   municipio        25748 non-null  string \n 6   uf               25748 non-null  string \n 7   regiao           25748 non-null  string \n 8   subfuncao        25748 non-null  string \n 9   valor_empenhado  25748 non-null  float64\ndtypes: float64(1), int64(1), string(8)\nmemory usage: 2.2 MB\n"
     ]
    }
   ],
   "source": [
    "df_gold.info()"
   ]
  },
  {
   "cell_type": "markdown",
   "metadata": {
    "application/vnd.databricks.v1+cell": {
     "cellMetadata": {},
     "inputWidgets": {},
     "nuid": "f6daa508-7430-4c8b-bd98-fc361f88f777",
     "showTitle": false,
     "tableResultSettingsMap": {},
     "title": ""
    }
   },
   "source": [
    "## Solução do problema: Respondendo às perguntas\n",
    "- observação: dados de 2021 até 2024"
   ]
  },
  {
   "cell_type": "markdown",
   "metadata": {
    "application/vnd.databricks.v1+cell": {
     "cellMetadata": {},
     "inputWidgets": {},
     "nuid": "eb873523-6c9b-4eed-8f70-9ae2c8953971",
     "showTitle": false,
     "tableResultSettingsMap": {},
     "title": ""
    }
   },
   "source": [
    "### 1) Quais são os 5 maiores relatores individuais de emendas em número de emendas e qual a quantidade de emendas criada por cada um?"
   ]
  },
  {
   "cell_type": "code",
   "execution_count": 0,
   "metadata": {
    "application/vnd.databricks.v1+cell": {
     "cellMetadata": {
      "byteLimit": 2048000,
      "rowLimit": 10000
     },
     "inputWidgets": {},
     "nuid": "e184bd2c-f6e1-4f93-9a3b-2c582a472120",
     "showTitle": false,
     "tableResultSettingsMap": {},
     "title": ""
    }
   },
   "outputs": [
    {
     "output_type": "display_data",
     "data": {
      "text/html": [
       "<div>\n",
       "<style scoped>\n",
       "    .dataframe tbody tr th:only-of-type {\n",
       "        vertical-align: middle;\n",
       "    }\n",
       "\n",
       "    .dataframe tbody tr th {\n",
       "        vertical-align: top;\n",
       "    }\n",
       "\n",
       "    .dataframe thead th {\n",
       "        text-align: right;\n",
       "    }\n",
       "</style>\n",
       "<table border=\"1\" class=\"dataframe\">\n",
       "  <thead>\n",
       "    <tr style=\"text-align: right;\">\n",
       "      <th></th>\n",
       "      <th>index</th>\n",
       "      <th>quantidade_emendas</th>\n",
       "    </tr>\n",
       "  </thead>\n",
       "  <tbody>\n",
       "    <tr>\n",
       "      <th>0</th>\n",
       "      <td>JANDIRA FEGHALI</td>\n",
       "      <td>94</td>\n",
       "    </tr>\n",
       "    <tr>\n",
       "      <th>1</th>\n",
       "      <td>BOHN GASS</td>\n",
       "      <td>91</td>\n",
       "    </tr>\n",
       "    <tr>\n",
       "      <th>2</th>\n",
       "      <td>FERNANDA MELCHIONNA</td>\n",
       "      <td>90</td>\n",
       "    </tr>\n",
       "    <tr>\n",
       "      <th>3</th>\n",
       "      <td>PEDRO UCZAI</td>\n",
       "      <td>88</td>\n",
       "    </tr>\n",
       "    <tr>\n",
       "      <th>4</th>\n",
       "      <td>FLAVIO BOLSONARO</td>\n",
       "      <td>87</td>\n",
       "    </tr>\n",
       "  </tbody>\n",
       "</table>\n",
       "</div>"
      ]
     },
     "metadata": {
      "application/vnd.databricks.v1+output": {
       "addedWidgets": {},
       "arguments": {},
       "data": "<div>\n<style scoped>\n    .dataframe tbody tr th:only-of-type {\n        vertical-align: middle;\n    }\n\n    .dataframe tbody tr th {\n        vertical-align: top;\n    }\n\n    .dataframe thead th {\n        text-align: right;\n    }\n</style>\n<table border=\"1\" class=\"dataframe\">\n  <thead>\n    <tr style=\"text-align: right;\">\n      <th></th>\n      <th>index</th>\n      <th>quantidade_emendas</th>\n    </tr>\n  </thead>\n  <tbody>\n    <tr>\n      <th>0</th>\n      <td>JANDIRA FEGHALI</td>\n      <td>94</td>\n    </tr>\n    <tr>\n      <th>1</th>\n      <td>BOHN GASS</td>\n      <td>91</td>\n    </tr>\n    <tr>\n      <th>2</th>\n      <td>FERNANDA MELCHIONNA</td>\n      <td>90</td>\n    </tr>\n    <tr>\n      <th>3</th>\n      <td>PEDRO UCZAI</td>\n      <td>88</td>\n    </tr>\n    <tr>\n      <th>4</th>\n      <td>FLAVIO BOLSONARO</td>\n      <td>87</td>\n    </tr>\n  </tbody>\n</table>\n</div>",
       "datasetInfos": [],
       "metadata": {},
       "removedWidgets": [],
       "textData": null,
       "type": "htmlSandbox"
      }
     },
     "output_type": "display_data"
    }
   ],
   "source": [
    "df_1 = df_gold[\"nome_autor\"].value_counts()[:5].to_frame(name=\"quantidade_emendas\").reset_index()\n",
    "df_1"
   ]
  },
  {
   "cell_type": "markdown",
   "metadata": {
    "application/vnd.databricks.v1+cell": {
     "cellMetadata": {},
     "inputWidgets": {},
     "nuid": "dfc523f1-a077-47a1-b062-e2f8dac21b82",
     "showTitle": false,
     "tableResultSettingsMap": {},
     "title": ""
    }
   },
   "source": [
    "2) Quais são os 5 maiores relatores individuais de emendas em valor empenhado e qual a soma desse valor por relator?"
   ]
  },
  {
   "cell_type": "code",
   "execution_count": 0,
   "metadata": {
    "application/vnd.databricks.v1+cell": {
     "cellMetadata": {
      "byteLimit": 2048000,
      "rowLimit": 10000
     },
     "inputWidgets": {},
     "nuid": "ed6f0dff-21c2-423c-8442-24d4aca8cbdb",
     "showTitle": false,
     "tableResultSettingsMap": {},
     "title": ""
    }
   },
   "outputs": [
    {
     "output_type": "display_data",
     "data": {
      "text/html": [
       "<div>\n",
       "<style scoped>\n",
       "    .dataframe tbody tr th:only-of-type {\n",
       "        vertical-align: middle;\n",
       "    }\n",
       "\n",
       "    .dataframe tbody tr th {\n",
       "        vertical-align: top;\n",
       "    }\n",
       "\n",
       "    .dataframe thead th {\n",
       "        text-align: right;\n",
       "    }\n",
       "</style>\n",
       "<table border=\"1\" class=\"dataframe\">\n",
       "  <thead>\n",
       "    <tr style=\"text-align: right;\">\n",
       "      <th></th>\n",
       "      <th>nome_autor</th>\n",
       "      <th>soma_valor_emendas</th>\n",
       "    </tr>\n",
       "  </thead>\n",
       "  <tbody>\n",
       "    <tr>\n",
       "      <th>0</th>\n",
       "      <td>RELATOR GERAL</td>\n",
       "      <td>4.191257e+10</td>\n",
       "    </tr>\n",
       "    <tr>\n",
       "      <th>34</th>\n",
       "      <td>CARLOS PORTINHO</td>\n",
       "      <td>6.605289e+08</td>\n",
       "    </tr>\n",
       "    <tr>\n",
       "      <th>37</th>\n",
       "      <td>PAULO PAIM</td>\n",
       "      <td>3.942019e+08</td>\n",
       "    </tr>\n",
       "    <tr>\n",
       "      <th>38</th>\n",
       "      <td>ALBERTO FRAGA</td>\n",
       "      <td>3.876472e+08</td>\n",
       "    </tr>\n",
       "    <tr>\n",
       "      <th>39</th>\n",
       "      <td>ROSE DE FREITAS</td>\n",
       "      <td>3.606558e+08</td>\n",
       "    </tr>\n",
       "    <tr>\n",
       "      <th>40</th>\n",
       "      <td>EDUARDO GOMES</td>\n",
       "      <td>3.316521e+08</td>\n",
       "    </tr>\n",
       "  </tbody>\n",
       "</table>\n",
       "</div>"
      ]
     },
     "metadata": {
      "application/vnd.databricks.v1+output": {
       "addedWidgets": {},
       "arguments": {},
       "data": "<div>\n<style scoped>\n    .dataframe tbody tr th:only-of-type {\n        vertical-align: middle;\n    }\n\n    .dataframe tbody tr th {\n        vertical-align: top;\n    }\n\n    .dataframe thead th {\n        text-align: right;\n    }\n</style>\n<table border=\"1\" class=\"dataframe\">\n  <thead>\n    <tr style=\"text-align: right;\">\n      <th></th>\n      <th>nome_autor</th>\n      <th>soma_valor_emendas</th>\n    </tr>\n  </thead>\n  <tbody>\n    <tr>\n      <th>0</th>\n      <td>RELATOR GERAL</td>\n      <td>4.191257e+10</td>\n    </tr>\n    <tr>\n      <th>34</th>\n      <td>CARLOS PORTINHO</td>\n      <td>6.605289e+08</td>\n    </tr>\n    <tr>\n      <th>37</th>\n      <td>PAULO PAIM</td>\n      <td>3.942019e+08</td>\n    </tr>\n    <tr>\n      <th>38</th>\n      <td>ALBERTO FRAGA</td>\n      <td>3.876472e+08</td>\n    </tr>\n    <tr>\n      <th>39</th>\n      <td>ROSE DE FREITAS</td>\n      <td>3.606558e+08</td>\n    </tr>\n    <tr>\n      <th>40</th>\n      <td>EDUARDO GOMES</td>\n      <td>3.316521e+08</td>\n    </tr>\n  </tbody>\n</table>\n</div>",
       "datasetInfos": [],
       "metadata": {},
       "removedWidgets": [],
       "textData": null,
       "type": "htmlSandbox"
      }
     },
     "output_type": "display_data"
    }
   ],
   "source": [
    "# Agrupando por nome do relator e somando os valores pagos em cada emenda\n",
    "df_2 = df_gold[\"valor_empenhado\"].groupby(df_gold[\"nome_autor\"]).sum().sort_values(ascending=False).to_frame(name=\"soma_valor_emendas\").reset_index()\n",
    "\n",
    "# Retirando comissões e bancadas\n",
    "df_2 = df_2[df_2[\"nome_autor\"].apply(lambda row: row.lower().startswith((\"com.\", \"bancada\")) == False)][:6]\n",
    "df_2"
   ]
  },
  {
   "cell_type": "markdown",
   "metadata": {
    "application/vnd.databricks.v1+cell": {
     "cellMetadata": {},
     "inputWidgets": {},
     "nuid": "8f98842d-d1ad-4d0e-8b8d-535247f8c877",
     "showTitle": false,
     "tableResultSettingsMap": {},
     "title": ""
    }
   },
   "source": [
    "### Pergunta extra 1:\n",
    "### Quais bancadas tiveram o maior valor somado e emendas e quantas emendas somaram esse valor?"
   ]
  },
  {
   "cell_type": "code",
   "execution_count": 0,
   "metadata": {
    "application/vnd.databricks.v1+cell": {
     "cellMetadata": {
      "byteLimit": 2048000,
      "rowLimit": 10000
     },
     "inputWidgets": {},
     "nuid": "c04f0e51-fe8e-4e3f-bc7d-50141fa77ad3",
     "showTitle": false,
     "tableResultSettingsMap": {},
     "title": ""
    }
   },
   "outputs": [
    {
     "output_type": "display_data",
     "data": {
      "text/html": [
       "<div>\n",
       "<style scoped>\n",
       "    .dataframe tbody tr th:only-of-type {\n",
       "        vertical-align: middle;\n",
       "    }\n",
       "\n",
       "    .dataframe tbody tr th {\n",
       "        vertical-align: top;\n",
       "    }\n",
       "\n",
       "    .dataframe thead th {\n",
       "        text-align: right;\n",
       "    }\n",
       "</style>\n",
       "<table border=\"1\" class=\"dataframe\">\n",
       "  <thead>\n",
       "    <tr style=\"text-align: right;\">\n",
       "      <th></th>\n",
       "      <th>nome_autor</th>\n",
       "      <th>valor_emendas</th>\n",
       "      <th>quantidade</th>\n",
       "    </tr>\n",
       "  </thead>\n",
       "  <tbody>\n",
       "    <tr>\n",
       "      <th>3</th>\n",
       "      <td>BANCADA DO RIO GRANDE DO SUL</td>\n",
       "      <td>4.604264e+09</td>\n",
       "      <td>66</td>\n",
       "    </tr>\n",
       "    <tr>\n",
       "      <th>4</th>\n",
       "      <td>BANCADA DO ESPIRITO SANTO</td>\n",
       "      <td>3.234247e+09</td>\n",
       "      <td>56</td>\n",
       "    </tr>\n",
       "    <tr>\n",
       "      <th>5</th>\n",
       "      <td>BANCADA DO PARANA</td>\n",
       "      <td>3.224695e+09</td>\n",
       "      <td>46</td>\n",
       "    </tr>\n",
       "    <tr>\n",
       "      <th>6</th>\n",
       "      <td>BANCADA DO RIO GRANDE DO NORTE</td>\n",
       "      <td>2.685223e+09</td>\n",
       "      <td>54</td>\n",
       "    </tr>\n",
       "    <tr>\n",
       "      <th>7</th>\n",
       "      <td>BANCADA DA BAHIA</td>\n",
       "      <td>2.559516e+09</td>\n",
       "      <td>62</td>\n",
       "    </tr>\n",
       "  </tbody>\n",
       "</table>\n",
       "</div>"
      ]
     },
     "metadata": {
      "application/vnd.databricks.v1+output": {
       "addedWidgets": {},
       "arguments": {},
       "data": "<div>\n<style scoped>\n    .dataframe tbody tr th:only-of-type {\n        vertical-align: middle;\n    }\n\n    .dataframe tbody tr th {\n        vertical-align: top;\n    }\n\n    .dataframe thead th {\n        text-align: right;\n    }\n</style>\n<table border=\"1\" class=\"dataframe\">\n  <thead>\n    <tr style=\"text-align: right;\">\n      <th></th>\n      <th>nome_autor</th>\n      <th>valor_emendas</th>\n      <th>quantidade</th>\n    </tr>\n  </thead>\n  <tbody>\n    <tr>\n      <th>3</th>\n      <td>BANCADA DO RIO GRANDE DO SUL</td>\n      <td>4.604264e+09</td>\n      <td>66</td>\n    </tr>\n    <tr>\n      <th>4</th>\n      <td>BANCADA DO ESPIRITO SANTO</td>\n      <td>3.234247e+09</td>\n      <td>56</td>\n    </tr>\n    <tr>\n      <th>5</th>\n      <td>BANCADA DO PARANA</td>\n      <td>3.224695e+09</td>\n      <td>46</td>\n    </tr>\n    <tr>\n      <th>6</th>\n      <td>BANCADA DO RIO GRANDE DO NORTE</td>\n      <td>2.685223e+09</td>\n      <td>54</td>\n    </tr>\n    <tr>\n      <th>7</th>\n      <td>BANCADA DA BAHIA</td>\n      <td>2.559516e+09</td>\n      <td>62</td>\n    </tr>\n  </tbody>\n</table>\n</div>",
       "datasetInfos": [],
       "metadata": {},
       "removedWidgets": [],
       "textData": null,
       "type": "htmlSandbox"
      }
     },
     "output_type": "display_data"
    }
   ],
   "source": [
    "df_e1 = df_gold.groupby(\"nome_autor\").agg(valor_emendas=(\"valor_empenhado\", \"sum\"),\n",
    "                                          quantidade=(\"codigo_emenda\", \"count\")\n",
    "                                          )\n",
    "\n",
    "df_e1 = df_e1.sort_values(by=\"valor_emendas\", ascending=False).reset_index()\n",
    "df_e1 = df_e1[df_e1[\"nome_autor\"].apply(lambda row: row.lower().startswith((\"bancada\")) == True)][:5]\n",
    "df_e1"
   ]
  },
  {
   "cell_type": "markdown",
   "metadata": {
    "application/vnd.databricks.v1+cell": {
     "cellMetadata": {},
     "inputWidgets": {},
     "nuid": "29e82e02-0ec1-4d91-99ab-b42c1a09fb18",
     "showTitle": false,
     "tableResultSettingsMap": {},
     "title": ""
    }
   },
   "source": [
    "### Pergunta extra 2:\n",
    "### De onde surgiram valores com mais de duas casas decimais nos dados?\n",
    "#### Exemplo: \"Relator Geral:\t41912574555.810005\""
   ]
  },
  {
   "cell_type": "code",
   "execution_count": 0,
   "metadata": {
    "application/vnd.databricks.v1+cell": {
     "cellMetadata": {
      "byteLimit": 2048000,
      "rowLimit": 10000
     },
     "inputWidgets": {},
     "nuid": "af6fc274-0846-48f3-9071-f79440c53384",
     "showTitle": false,
     "tableResultSettingsMap": {},
     "title": ""
    }
   },
   "outputs": [
    {
     "output_type": "stream",
     "name": "stdout",
     "output_type": "stream",
     "text": [
      "a =  0.1\nb =  0.2\na + b =  0.30000000000000004\n"
     ]
    }
   ],
   "source": [
    "# exemplo de soma que acarreta em mais casas decimais\n",
    "a = 0.1\n",
    "b = 0.2\n",
    "c = a + b\n",
    "print(\"a = \", a)\n",
    "print(\"b = \", b)\n",
    "print(\"a + b = \", c)"
   ]
  },
  {
   "cell_type": "markdown",
   "metadata": {
    "application/vnd.databricks.v1+cell": {
     "cellMetadata": {},
     "inputWidgets": {},
     "nuid": "33ba589e-ff46-4f88-ae04-364648c973d4",
     "showTitle": false,
     "tableResultSettingsMap": {},
     "title": ""
    }
   },
   "source": [
    "### Conclusão da pergunta extra 2:\n",
    "#### Não se trata de um erro na etapa de limpeza dos dados.\n",
    "#### Isso é uma limitação de sistemas binários, os números são na verdade armazenados como potências de 2. O número em ponto flutuante, com casas decimais, é apenas exibido dessa forma, não é armazenado. Em alguns casos nas operações matemáticas esses pequenos valores em casas decimais mais à direita acabam interagindo de forma a tornarem-se significativos e consequentemente aparecem na notação."
   ]
  },
  {
   "cell_type": "markdown",
   "metadata": {
    "application/vnd.databricks.v1+cell": {
     "cellMetadata": {},
     "inputWidgets": {},
     "nuid": "4eccf833-fe39-4d36-8f91-f1a145082d59",
     "showTitle": false,
     "tableResultSettingsMap": {},
     "title": ""
    }
   },
   "source": [
    "### 3) Para quais subfunções mais dinheiro foi empenhado?"
   ]
  },
  {
   "cell_type": "code",
   "execution_count": 0,
   "metadata": {
    "application/vnd.databricks.v1+cell": {
     "cellMetadata": {
      "byteLimit": 2048000,
      "rowLimit": 10000
     },
     "inputWidgets": {},
     "nuid": "ee1766f2-3860-417e-b6d9-d3a569d4f328",
     "showTitle": false,
     "tableResultSettingsMap": {},
     "title": ""
    }
   },
   "outputs": [
    {
     "output_type": "display_data",
     "data": {
      "text/html": [
       "<div>\n",
       "<style scoped>\n",
       "    .dataframe tbody tr th:only-of-type {\n",
       "        vertical-align: middle;\n",
       "    }\n",
       "\n",
       "    .dataframe tbody tr th {\n",
       "        vertical-align: top;\n",
       "    }\n",
       "\n",
       "    .dataframe thead th {\n",
       "        text-align: right;\n",
       "    }\n",
       "</style>\n",
       "<table border=\"1\" class=\"dataframe\">\n",
       "  <thead>\n",
       "    <tr style=\"text-align: right;\">\n",
       "      <th></th>\n",
       "      <th>subfuncao</th>\n",
       "      <th>soma_valor_emendas</th>\n",
       "    </tr>\n",
       "  </thead>\n",
       "  <tbody>\n",
       "    <tr>\n",
       "      <th>0</th>\n",
       "      <td>Atenção básica</td>\n",
       "      <td>3.682088e+10</td>\n",
       "    </tr>\n",
       "    <tr>\n",
       "      <th>1</th>\n",
       "      <td>Assistência hospitalar e ambulatorial</td>\n",
       "      <td>2.792389e+10</td>\n",
       "    </tr>\n",
       "    <tr>\n",
       "      <th>2</th>\n",
       "      <td>Promoção da produção agropecuária</td>\n",
       "      <td>2.569398e+10</td>\n",
       "    </tr>\n",
       "    <tr>\n",
       "      <th>3</th>\n",
       "      <td>Outras transferências</td>\n",
       "      <td>2.019444e+10</td>\n",
       "    </tr>\n",
       "    <tr>\n",
       "      <th>4</th>\n",
       "      <td>Múltiplo</td>\n",
       "      <td>1.897371e+10</td>\n",
       "    </tr>\n",
       "  </tbody>\n",
       "</table>\n",
       "</div>"
      ]
     },
     "metadata": {
      "application/vnd.databricks.v1+output": {
       "addedWidgets": {},
       "arguments": {},
       "data": "<div>\n<style scoped>\n    .dataframe tbody tr th:only-of-type {\n        vertical-align: middle;\n    }\n\n    .dataframe tbody tr th {\n        vertical-align: top;\n    }\n\n    .dataframe thead th {\n        text-align: right;\n    }\n</style>\n<table border=\"1\" class=\"dataframe\">\n  <thead>\n    <tr style=\"text-align: right;\">\n      <th></th>\n      <th>subfuncao</th>\n      <th>soma_valor_emendas</th>\n    </tr>\n  </thead>\n  <tbody>\n    <tr>\n      <th>0</th>\n      <td>Atenção básica</td>\n      <td>3.682088e+10</td>\n    </tr>\n    <tr>\n      <th>1</th>\n      <td>Assistência hospitalar e ambulatorial</td>\n      <td>2.792389e+10</td>\n    </tr>\n    <tr>\n      <th>2</th>\n      <td>Promoção da produção agropecuária</td>\n      <td>2.569398e+10</td>\n    </tr>\n    <tr>\n      <th>3</th>\n      <td>Outras transferências</td>\n      <td>2.019444e+10</td>\n    </tr>\n    <tr>\n      <th>4</th>\n      <td>Múltiplo</td>\n      <td>1.897371e+10</td>\n    </tr>\n  </tbody>\n</table>\n</div>",
       "datasetInfos": [],
       "metadata": {},
       "removedWidgets": [],
       "textData": null,
       "type": "htmlSandbox"
      }
     },
     "output_type": "display_data"
    }
   ],
   "source": [
    "df_3 = df_gold[\"valor_empenhado\"].groupby(df_gold[\"subfuncao\"]).sum().sort_values(ascending=False)\n",
    "df_3 = df_3.to_frame(name=\"soma_valor_emendas\").reset_index()[:5]\n",
    "df_3"
   ]
  },
  {
   "cell_type": "markdown",
   "metadata": {
    "application/vnd.databricks.v1+cell": {
     "cellMetadata": {},
     "inputWidgets": {},
     "nuid": "f03f1a5a-2f16-448e-9e4f-f8466d6daa9a",
     "showTitle": false,
     "tableResultSettingsMap": {},
     "title": ""
    }
   },
   "source": [
    "### 4) Para quais \"local_destino\" mais dinheiro foi empenhado?"
   ]
  },
  {
   "cell_type": "code",
   "execution_count": 0,
   "metadata": {
    "application/vnd.databricks.v1+cell": {
     "cellMetadata": {
      "byteLimit": 2048000,
      "rowLimit": 10000
     },
     "inputWidgets": {},
     "nuid": "841ca21d-4b97-4ec8-9ea7-fbfa456d23ae",
     "showTitle": false,
     "tableResultSettingsMap": {},
     "title": ""
    }
   },
   "outputs": [
    {
     "output_type": "display_data",
     "data": {
      "text/html": [
       "<div>\n",
       "<style scoped>\n",
       "    .dataframe tbody tr th:only-of-type {\n",
       "        vertical-align: middle;\n",
       "    }\n",
       "\n",
       "    .dataframe tbody tr th {\n",
       "        vertical-align: top;\n",
       "    }\n",
       "\n",
       "    .dataframe thead th {\n",
       "        text-align: right;\n",
       "    }\n",
       "</style>\n",
       "<table border=\"1\" class=\"dataframe\">\n",
       "  <thead>\n",
       "    <tr style=\"text-align: right;\">\n",
       "      <th></th>\n",
       "      <th>local_destino</th>\n",
       "      <th>soma_valor_emendas</th>\n",
       "    </tr>\n",
       "  </thead>\n",
       "  <tbody>\n",
       "    <tr>\n",
       "      <th>0</th>\n",
       "      <td>Múltiplo</td>\n",
       "      <td>1.331534e+11</td>\n",
       "    </tr>\n",
       "    <tr>\n",
       "      <th>1</th>\n",
       "      <td>Nacional</td>\n",
       "      <td>5.736170e+09</td>\n",
       "    </tr>\n",
       "    <tr>\n",
       "      <th>2</th>\n",
       "      <td>RIO GRANDE DO SUL (UF)</td>\n",
       "      <td>4.328884e+09</td>\n",
       "    </tr>\n",
       "    <tr>\n",
       "      <th>3</th>\n",
       "      <td>RIO DE JANEIRO (UF)</td>\n",
       "      <td>3.236776e+09</td>\n",
       "    </tr>\n",
       "    <tr>\n",
       "      <th>4</th>\n",
       "      <td>BAHIA (UF)</td>\n",
       "      <td>3.230206e+09</td>\n",
       "    </tr>\n",
       "  </tbody>\n",
       "</table>\n",
       "</div>"
      ]
     },
     "metadata": {
      "application/vnd.databricks.v1+output": {
       "addedWidgets": {},
       "arguments": {},
       "data": "<div>\n<style scoped>\n    .dataframe tbody tr th:only-of-type {\n        vertical-align: middle;\n    }\n\n    .dataframe tbody tr th {\n        vertical-align: top;\n    }\n\n    .dataframe thead th {\n        text-align: right;\n    }\n</style>\n<table border=\"1\" class=\"dataframe\">\n  <thead>\n    <tr style=\"text-align: right;\">\n      <th></th>\n      <th>local_destino</th>\n      <th>soma_valor_emendas</th>\n    </tr>\n  </thead>\n  <tbody>\n    <tr>\n      <th>0</th>\n      <td>Múltiplo</td>\n      <td>1.331534e+11</td>\n    </tr>\n    <tr>\n      <th>1</th>\n      <td>Nacional</td>\n      <td>5.736170e+09</td>\n    </tr>\n    <tr>\n      <th>2</th>\n      <td>RIO GRANDE DO SUL (UF)</td>\n      <td>4.328884e+09</td>\n    </tr>\n    <tr>\n      <th>3</th>\n      <td>RIO DE JANEIRO (UF)</td>\n      <td>3.236776e+09</td>\n    </tr>\n    <tr>\n      <th>4</th>\n      <td>BAHIA (UF)</td>\n      <td>3.230206e+09</td>\n    </tr>\n  </tbody>\n</table>\n</div>",
       "datasetInfos": [],
       "metadata": {},
       "removedWidgets": [],
       "textData": null,
       "type": "htmlSandbox"
      }
     },
     "output_type": "display_data"
    }
   ],
   "source": [
    "df_4 = df_gold[\"valor_empenhado\"].groupby(df_gold[\"local_destino\"]).sum().sort_values(ascending=False)\n",
    "df_4 = df_4.to_frame(name=\"soma_valor_emendas\").reset_index()[:5]\n",
    "df_4"
   ]
  },
  {
   "cell_type": "markdown",
   "metadata": {
    "application/vnd.databricks.v1+cell": {
     "cellMetadata": {},
     "inputWidgets": {},
     "nuid": "ca37cd0d-80ae-484f-91f3-5d8e430ff18d",
     "showTitle": false,
     "tableResultSettingsMap": {},
     "title": ""
    }
   },
   "source": [
    "### 5) Para quais \"local_destino\" menos dinheiro foi empenhado?"
   ]
  },
  {
   "cell_type": "code",
   "execution_count": 0,
   "metadata": {
    "application/vnd.databricks.v1+cell": {
     "cellMetadata": {
      "byteLimit": 2048000,
      "rowLimit": 10000
     },
     "inputWidgets": {},
     "nuid": "681c3be3-a088-41c0-833c-ed38bb38b066",
     "showTitle": false,
     "tableResultSettingsMap": {},
     "title": ""
    }
   },
   "outputs": [
    {
     "output_type": "display_data",
     "data": {
      "text/html": [
       "<div>\n",
       "<style scoped>\n",
       "    .dataframe tbody tr th:only-of-type {\n",
       "        vertical-align: middle;\n",
       "    }\n",
       "\n",
       "    .dataframe tbody tr th {\n",
       "        vertical-align: top;\n",
       "    }\n",
       "\n",
       "    .dataframe thead th {\n",
       "        text-align: right;\n",
       "    }\n",
       "</style>\n",
       "<table border=\"1\" class=\"dataframe\">\n",
       "  <thead>\n",
       "    <tr style=\"text-align: right;\">\n",
       "      <th></th>\n",
       "      <th>local_destino</th>\n",
       "      <th>soma_valor_emendas</th>\n",
       "    </tr>\n",
       "  </thead>\n",
       "  <tbody>\n",
       "    <tr>\n",
       "      <th>0</th>\n",
       "      <td>NOSSA SENHORA DAS DORES - SE</td>\n",
       "      <td>2633.0</td>\n",
       "    </tr>\n",
       "    <tr>\n",
       "      <th>1</th>\n",
       "      <td>NOVA SANTA RITA - RS</td>\n",
       "      <td>22500.0</td>\n",
       "    </tr>\n",
       "    <tr>\n",
       "      <th>2</th>\n",
       "      <td>ARAÇARIGUAMA - SP</td>\n",
       "      <td>38206.0</td>\n",
       "    </tr>\n",
       "    <tr>\n",
       "      <th>3</th>\n",
       "      <td>CRUZETA - RN</td>\n",
       "      <td>47366.0</td>\n",
       "    </tr>\n",
       "    <tr>\n",
       "      <th>4</th>\n",
       "      <td>MOIPORÁ - GO</td>\n",
       "      <td>49993.0</td>\n",
       "    </tr>\n",
       "  </tbody>\n",
       "</table>\n",
       "</div>"
      ]
     },
     "metadata": {
      "application/vnd.databricks.v1+output": {
       "addedWidgets": {},
       "arguments": {},
       "data": "<div>\n<style scoped>\n    .dataframe tbody tr th:only-of-type {\n        vertical-align: middle;\n    }\n\n    .dataframe tbody tr th {\n        vertical-align: top;\n    }\n\n    .dataframe thead th {\n        text-align: right;\n    }\n</style>\n<table border=\"1\" class=\"dataframe\">\n  <thead>\n    <tr style=\"text-align: right;\">\n      <th></th>\n      <th>local_destino</th>\n      <th>soma_valor_emendas</th>\n    </tr>\n  </thead>\n  <tbody>\n    <tr>\n      <th>0</th>\n      <td>NOSSA SENHORA DAS DORES - SE</td>\n      <td>2633.0</td>\n    </tr>\n    <tr>\n      <th>1</th>\n      <td>NOVA SANTA RITA - RS</td>\n      <td>22500.0</td>\n    </tr>\n    <tr>\n      <th>2</th>\n      <td>ARAÇARIGUAMA - SP</td>\n      <td>38206.0</td>\n    </tr>\n    <tr>\n      <th>3</th>\n      <td>CRUZETA - RN</td>\n      <td>47366.0</td>\n    </tr>\n    <tr>\n      <th>4</th>\n      <td>MOIPORÁ - GO</td>\n      <td>49993.0</td>\n    </tr>\n  </tbody>\n</table>\n</div>",
       "datasetInfos": [],
       "metadata": {},
       "removedWidgets": [],
       "textData": null,
       "type": "htmlSandbox"
      }
     },
     "output_type": "display_data"
    }
   ],
   "source": [
    "df_5 = df_gold[\"valor_empenhado\"].groupby(df_gold[\"local_destino\"]).sum().sort_values(ascending=True)\n",
    "df_5 = df_5.to_frame(name=\"soma_valor_emendas\")[:5].sort_values(by=\"soma_valor_emendas\", ascending=True).reset_index()\n",
    "df_5"
   ]
  },
  {
   "cell_type": "markdown",
   "metadata": {
    "application/vnd.databricks.v1+cell": {
     "cellMetadata": {},
     "inputWidgets": {},
     "nuid": "b85c9b17-d1e6-445c-ab4c-2b037c77f4c1",
     "showTitle": false,
     "tableResultSettingsMap": {},
     "title": ""
    }
   },
   "source": [
    "### 6) Para quais regiões mais dinheiro foi empenhado qual foi esse valor?"
   ]
  },
  {
   "cell_type": "code",
   "execution_count": 0,
   "metadata": {
    "application/vnd.databricks.v1+cell": {
     "cellMetadata": {
      "byteLimit": 2048000,
      "rowLimit": 10000
     },
     "inputWidgets": {},
     "nuid": "de4c3fe9-2fa9-4f38-903c-41334906743e",
     "showTitle": false,
     "tableResultSettingsMap": {},
     "title": ""
    }
   },
   "outputs": [
    {
     "output_type": "display_data",
     "data": {
      "text/html": [
       "<div>\n",
       "<style scoped>\n",
       "    .dataframe tbody tr th:only-of-type {\n",
       "        vertical-align: middle;\n",
       "    }\n",
       "\n",
       "    .dataframe tbody tr th {\n",
       "        vertical-align: top;\n",
       "    }\n",
       "\n",
       "    .dataframe thead th {\n",
       "        text-align: right;\n",
       "    }\n",
       "</style>\n",
       "<table border=\"1\" class=\"dataframe\">\n",
       "  <thead>\n",
       "    <tr style=\"text-align: right;\">\n",
       "      <th></th>\n",
       "      <th>regiao</th>\n",
       "      <th>soma_valor_emendas</th>\n",
       "    </tr>\n",
       "  </thead>\n",
       "  <tbody>\n",
       "    <tr>\n",
       "      <th>0</th>\n",
       "      <td>Múltiplo</td>\n",
       "      <td>6.148216e+10</td>\n",
       "    </tr>\n",
       "    <tr>\n",
       "      <th>1</th>\n",
       "      <td>Nordeste</td>\n",
       "      <td>3.392219e+10</td>\n",
       "    </tr>\n",
       "    <tr>\n",
       "      <th>2</th>\n",
       "      <td>Sudeste</td>\n",
       "      <td>2.965054e+10</td>\n",
       "    </tr>\n",
       "    <tr>\n",
       "      <th>3</th>\n",
       "      <td>Norte</td>\n",
       "      <td>2.220688e+10</td>\n",
       "    </tr>\n",
       "    <tr>\n",
       "      <th>4</th>\n",
       "      <td>Sul</td>\n",
       "      <td>1.969257e+10</td>\n",
       "    </tr>\n",
       "    <tr>\n",
       "      <th>5</th>\n",
       "      <td>Centro-Oeste</td>\n",
       "      <td>1.068714e+10</td>\n",
       "    </tr>\n",
       "    <tr>\n",
       "      <th>6</th>\n",
       "      <td>Nacional</td>\n",
       "      <td>5.736170e+09</td>\n",
       "    </tr>\n",
       "    <tr>\n",
       "      <th>7</th>\n",
       "      <td>Exterior</td>\n",
       "      <td>6.371913e+08</td>\n",
       "    </tr>\n",
       "  </tbody>\n",
       "</table>\n",
       "</div>"
      ]
     },
     "metadata": {
      "application/vnd.databricks.v1+output": {
       "addedWidgets": {},
       "arguments": {},
       "data": "<div>\n<style scoped>\n    .dataframe tbody tr th:only-of-type {\n        vertical-align: middle;\n    }\n\n    .dataframe tbody tr th {\n        vertical-align: top;\n    }\n\n    .dataframe thead th {\n        text-align: right;\n    }\n</style>\n<table border=\"1\" class=\"dataframe\">\n  <thead>\n    <tr style=\"text-align: right;\">\n      <th></th>\n      <th>regiao</th>\n      <th>soma_valor_emendas</th>\n    </tr>\n  </thead>\n  <tbody>\n    <tr>\n      <th>0</th>\n      <td>Múltiplo</td>\n      <td>6.148216e+10</td>\n    </tr>\n    <tr>\n      <th>1</th>\n      <td>Nordeste</td>\n      <td>3.392219e+10</td>\n    </tr>\n    <tr>\n      <th>2</th>\n      <td>Sudeste</td>\n      <td>2.965054e+10</td>\n    </tr>\n    <tr>\n      <th>3</th>\n      <td>Norte</td>\n      <td>2.220688e+10</td>\n    </tr>\n    <tr>\n      <th>4</th>\n      <td>Sul</td>\n      <td>1.969257e+10</td>\n    </tr>\n    <tr>\n      <th>5</th>\n      <td>Centro-Oeste</td>\n      <td>1.068714e+10</td>\n    </tr>\n    <tr>\n      <th>6</th>\n      <td>Nacional</td>\n      <td>5.736170e+09</td>\n    </tr>\n    <tr>\n      <th>7</th>\n      <td>Exterior</td>\n      <td>6.371913e+08</td>\n    </tr>\n  </tbody>\n</table>\n</div>",
       "datasetInfos": [],
       "metadata": {},
       "removedWidgets": [],
       "textData": null,
       "type": "htmlSandbox"
      }
     },
     "output_type": "display_data"
    }
   ],
   "source": [
    "df_6 = df_gold[\"valor_empenhado\"].groupby(df_gold[\"regiao\"]).sum().sort_values(ascending=False)\n",
    "df_6 = df_6.to_frame(name=\"soma_valor_emendas\").sort_values(by=\"soma_valor_emendas\", ascending=False).reset_index()\n",
    "df_6"
   ]
  },
  {
   "cell_type": "markdown",
   "metadata": {
    "application/vnd.databricks.v1+cell": {
     "cellMetadata": {},
     "inputWidgets": {},
     "nuid": "d52f42ee-2cdc-4a0c-80d8-435708970a1f",
     "showTitle": false,
     "tableResultSettingsMap": {},
     "title": ""
    }
   },
   "source": [
    "### 7) qual a tendência do valor total empenhado nos últimos 5 anos?"
   ]
  },
  {
   "cell_type": "code",
   "execution_count": 0,
   "metadata": {
    "application/vnd.databricks.v1+cell": {
     "cellMetadata": {
      "byteLimit": 2048000,
      "rowLimit": 10000
     },
     "inputWidgets": {},
     "nuid": "e42765a9-f6d1-4d9b-a8b7-04819ae706a1",
     "showTitle": false,
     "tableResultSettingsMap": {},
     "title": ""
    }
   },
   "outputs": [
    {
     "output_type": "stream",
     "name": "stdout",
     "output_type": "stream",
     "text": [
      "Out[37]: <AxesSubplot:title={'center':'Tendência do valor total de em Emendas Parlamentares'}, xlabel='ano_emenda', ylabel='soma_valor_emendas'>"
     ]
    },
    {
     "output_type": "display_data",
     "data": {
      "image/png": "[encoded data removed]"
     },
     "metadata": {
      "application/vnd.databricks.v1+output": {
       "addedWidgets": {},
       "arguments": {},
       "data": "data:image/png;base64,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\n",
       "datasetInfos": [],
       "metadata": {},
       "removedWidgets": [],
       "type": "image"
      }
     },
     "output_type": "display_data"
    }
   ],
   "source": [
    "import seaborn as sns\n",
    "import matplotlib.pyplot as plt\n",
    "\n",
    "df_7 = df_gold[\"valor_empenhado\"].groupby(df_gold[\"ano_emenda\"]).sum()\n",
    "df_7 = df_7.to_frame(name=\"soma_valor_emendas\").reset_index()\n",
    "df_7[\"soma_valor_emendas\"] = df_7[\"soma_valor_emendas\"] / 1e9\n",
    "\n",
    "sns.set(style=\"whitegrid\")\n",
    "plt.figure(figsize=(10, 6))\n",
    "plt.title('Tendência do valor total de em Emendas Parlamentares', fontsize=16)\n",
    "plt.ylabel('Bilhões (R$)', fontsize=12)\n",
    "plt.xlabel(' ', fontsize=12)\n",
    "plt.xticks()\n",
    "sns.barplot(x=df_7[\"ano_emenda\"], y=df_7[\"soma_valor_emendas\"])"
   ]
  },
  {
   "cell_type": "markdown",
   "metadata": {
    "application/vnd.databricks.v1+cell": {
     "cellMetadata": {},
     "inputWidgets": {},
     "nuid": "b8e3fe24-a140-4413-896a-43f7ebcf5f50",
     "showTitle": false,
     "tableResultSettingsMap": {},
     "title": ""
    }
   },
   "source": [
    "### 8) qual o volume total em dinheiro empenhado das emendas desde 2021?"
   ]
  },
  {
   "cell_type": "code",
   "execution_count": 0,
   "metadata": {
    "application/vnd.databricks.v1+cell": {
     "cellMetadata": {
      "byteLimit": 2048000,
      "rowLimit": 10000
     },
     "inputWidgets": {},
     "nuid": "5fd91040-6576-44cd-abd3-5ab0c85bdc0c",
     "showTitle": false,
     "tableResultSettingsMap": {},
     "title": ""
    }
   },
   "outputs": [
    {
     "output_type": "stream",
     "name": "stdout",
     "output_type": "stream",
     "text": [
      "184014841302,61\n"
     ]
    }
   ],
   "source": [
    "total_empenhado = df_gold[\"valor_empenhado\"].sum()\n",
    "total_empenhado_formatado = str(total_empenhado.round(2)).replace('.', ',')\n",
    "\n",
    "print(total_empenhado_formatado)"
   ]
  },
  {
   "cell_type": "markdown",
   "metadata": {
    "application/vnd.databricks.v1+cell": {
     "cellMetadata": {},
     "inputWidgets": {},
     "nuid": "a6259c76-ccef-4a02-a3da-75fc43b92d13",
     "showTitle": false,
     "tableResultSettingsMap": {},
     "title": ""
    }
   },
   "source": [
    "#### 184.014.841.302,61 Reais (pouco **mais** de 184 bilhões de reais)"
   ]
  },
  {
   "cell_type": "markdown",
   "metadata": {
    "application/vnd.databricks.v1+cell": {
     "cellMetadata": {},
     "inputWidgets": {},
     "nuid": "52933992-34cf-4e92-8b00-b7a30b7e8c42",
     "showTitle": false,
     "tableResultSettingsMap": {},
     "title": ""
    }
   },
   "source": [
    "### 9) qual o volume de dinheiro empenhado nas emendas de relator em 2022?"
   ]
  },
  {
   "cell_type": "code",
   "execution_count": 0,
   "metadata": {
    "application/vnd.databricks.v1+cell": {
     "cellMetadata": {
      "byteLimit": 2048000,
      "rowLimit": 10000
     },
     "inputWidgets": {},
     "nuid": "66a54020-4950-4204-8481-2bf14061604c",
     "showTitle": false,
     "tableResultSettingsMap": {},
     "title": ""
    }
   },
   "outputs": [
    {
     "output_type": "stream",
     "name": "stdout",
     "output_type": "stream",
     "text": [
      "8640941812.17\n"
     ]
    }
   ],
   "source": [
    "empenhado_emenda_relator = df_gold.query(\"ano_emenda == 2022 and tipo_emenda == 'Emenda de Relator'\")[\"valor_empenhado\"].sum( )\n",
    "print(empenhado_emenda_relator)"
   ]
  },
  {
   "cell_type": "markdown",
   "metadata": {
    "application/vnd.databricks.v1+cell": {
     "cellMetadata": {},
     "inputWidgets": {},
     "nuid": "9ee657e6-5871-4e3b-8adb-4bbb3f17e17f",
     "showTitle": false,
     "tableResultSettingsMap": {},
     "title": ""
    }
   },
   "source": [
    "8.640.941.812,17 Reais em emendas de relator em 2022 (Emendas Pix)"
   ]
  },
  {
   "cell_type": "markdown",
   "metadata": {
    "application/vnd.databricks.v1+cell": {
     "cellMetadata": {},
     "inputWidgets": {},
     "nuid": "29bde60a-c2e4-4668-a383-242128be2ce9",
     "showTitle": false,
     "tableResultSettingsMap": {},
     "title": ""
    }
   },
   "source": [
    "### 10) qual a tendência do volume das emendas de relator nos últimos 5 anos?"
   ]
  },
  {
   "cell_type": "code",
   "execution_count": 0,
   "metadata": {
    "application/vnd.databricks.v1+cell": {
     "cellMetadata": {
      "byteLimit": 2048000,
      "rowLimit": 10000
     },
     "inputWidgets": {},
     "nuid": "e67315f8-58ea-4a73-85fa-e75cdde6fc54",
     "showTitle": false,
     "tableResultSettingsMap": {},
     "title": ""
    }
   },
   "outputs": [
    {
     "output_type": "stream",
     "name": "stdout",
     "output_type": "stream",
     "text": [
      "Out[40]: Emenda Individual - Transferências com Finalid...    10198\nEmenda Individual - Transferências Especiais          1967\nEmenda de Bancada                                      715\nEmenda de Comissão                                     165\nName: tipo_emenda, dtype: Int64"
     ]
    }
   ],
   "source": [
    "df_gold.query(\"ano_emenda > 2022\")[\"tipo_emenda\"].value_counts()"
   ]
  },
  {
   "cell_type": "markdown",
   "metadata": {
    "application/vnd.databricks.v1+cell": {
     "cellMetadata": {},
     "inputWidgets": {},
     "nuid": "d4d79541-d8bf-4c74-8f30-894fd108668b",
     "showTitle": false,
     "tableResultSettingsMap": {},
     "title": ""
    }
   },
   "source": [
    "Não há registros de tipo_emenda igual a Emenda de relator a partir de 2023"
   ]
  },
  {
   "cell_type": "markdown",
   "metadata": {
    "application/vnd.databricks.v1+cell": {
     "cellMetadata": {},
     "inputWidgets": {},
     "nuid": "9c74f4ee-457e-4117-8d4f-3b127756aff3",
     "showTitle": false,
     "tableResultSettingsMap": {},
     "title": ""
    }
   },
   "source": [
    "- Os dados originais já estão bem organizados e formatados, além disso os valores faltantes estão explícitos. Somando-se a isso, também há um glossário  e um dicionário de termos bem estruturados e com possibilidade de busca por termos. Dessa forma não houve muito desafio nas etapas de limpeza dos dados.\n",
    "\n",
    "  dito isso, ainda assim tive grande dificuldade em entender as categorias dos valores monetários. Principalmente a questão dos dados de \"Valor resto a pagar\", que possuem as variações \"Inscritos\", \"Pancelados\" e \"Pagos\".\n",
    "\n",
    "  Na minha percepção (não tenho experiÊncia na área administrativa) ficou difícil de entender o que de fato foi pago e o que ficou apenas empenhado. Por esse motivo resolvi explorar apenas o \"valor empenhado\" nas perguntas.\n",
    "\n",
    "- As perguntas de fato respondidas são diferentes das colocadas inicialmente, por alguns motivos. São eles: a confusão de valores citada anteriormente, tentativa de tornar a análise mais interessante conforme o entendimento sobre os dados foi aumentando e adequação das perguntas aos dados. Um exemplo desse último caso foram as perguntas de número 9 e 10 que tratavam de emendas de relator nos últimos anos enquanto nos dados não há esses registros.\n",
    "\n",
    "- No geral fico satisfeito com o trabalho feito e tenho a consciencia de que há muitas outras perguntas a se fazer e conclusões a se tomar. Trata-se de dados muito valiosos e, de certa maneira, sensíveis.\n",
    "\n",
    "- Entender de administração pública sem dúvida seria de grande valia nesse tipo de análise.\n"
   ]
  },
  {
   "cell_type": "code",
   "execution_count": 0,
   "metadata": {
    "application/vnd.databricks.v1+cell": {
     "cellMetadata": {},
     "inputWidgets": {},
     "nuid": "0e789970-7a4f-48a2-b750-a4560a12c8f4",
     "showTitle": false,
     "tableResultSettingsMap": {},
     "title": ""
    }
   },
   "outputs": [],
   "source": []
  }
 ],
 "metadata": {
  "application/vnd.databricks.v1+notebook": {
   "computePreferences": null,
   "dashboards": [],
   "environmentMetadata": {
    "base_environment": "",
    "environment_version": "1"
   },
   "inputWidgetPreferences": null,
   "language": "python",
   "notebookMetadata": {
    "pythonIndentUnit": 4
   },
   "notebookName": "MVP_eng_dados_PUC_Rio_2025",
   "widgets": {}
  }
 },
 "nbformat": 4,
 "nbformat_minor": 0
}